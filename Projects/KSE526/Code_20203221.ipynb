{
 "cells": [
  {
   "cell_type": "markdown",
   "metadata": {
    "papermill": {
     "duration": 0.009679,
     "end_time": "2020-09-01T15:47:12.641975",
     "exception": false,
     "start_time": "2020-09-01T15:47:12.632296",
     "status": "completed"
    },
    "tags": []
   },
   "source": [
    "# 0) Setup"
   ]
  },
  {
   "cell_type": "code",
   "execution_count": 169,
   "metadata": {
    "papermill": {
     "duration": 2.216926,
     "end_time": "2020-09-01T15:47:14.868972",
     "exception": false,
     "start_time": "2020-09-01T15:47:12.652046",
     "status": "completed"
    },
    "tags": []
   },
   "outputs": [],
   "source": [
    "import time\n",
    "import pandas as pd\n",
    "import numpy as np\n",
    "from itertools import product\n",
    "import seaborn as sns\n",
    "import matplotlib.pyplot as plt\n",
    "from sklearn.preprocessing import LabelEncoder\n",
    "import lightgbm as lgb\n",
    "import calendar\n",
    "from datetime import datetime\n",
    "import seaborn as sns\n",
    "import matplotlib.pyplot as plt\n",
    "%matplotlib inline\n",
    "\n",
    "import os\n",
    "input_dir = \"../data/input/\"\n",
    "output_dir = \"../data/output/\""
   ]
  },
  {
   "cell_type": "markdown",
   "metadata": {
    "papermill": {
     "duration": 0.00812,
     "end_time": "2020-09-01T15:47:14.887687",
     "exception": false,
     "start_time": "2020-09-01T15:47:14.879567",
     "status": "completed"
    },
    "tags": []
   },
   "source": [
    "## 0.1. **Load data**"
   ]
  },
  {
   "cell_type": "code",
   "execution_count": 170,
   "metadata": {
    "papermill": {
     "duration": 1.680401,
     "end_time": "2020-09-01T15:47:16.576611",
     "exception": false,
     "start_time": "2020-09-01T15:47:14.896210",
     "status": "completed"
    },
    "tags": []
   },
   "outputs": [],
   "source": [
    "test = pd.read_csv(os.path.join(input_dir,'test.csv'))\n",
    "sales_train = pd.read_csv(os.path.join(input_dir,'sales_train.csv'))\n",
    "shops = pd.read_csv(os.path.join(input_dir,'shops.csv'))\n",
    "items = pd.read_csv(os.path.join(input_dir,'items.csv'))\n",
    "item_categories = pd.read_csv(os.path.join(input_dir,'item_categories.csv'))"
   ]
  },
  {
   "cell_type": "markdown",
   "metadata": {
    "papermill": {
     "duration": 0.008164,
     "end_time": "2020-09-01T15:47:16.593616",
     "exception": false,
     "start_time": "2020-09-01T15:47:16.585452",
     "status": "completed"
    },
    "tags": []
   },
   "source": [
    "# 2) **Create dataset**"
   ]
  },
  {
   "cell_type": "markdown",
   "metadata": {
    "papermill": {
     "duration": 0.008319,
     "end_time": "2020-09-01T15:47:16.610584",
     "exception": false,
     "start_time": "2020-09-01T15:47:16.602265",
     "status": "completed"
    },
    "tags": []
   },
   "source": [
    "## 2.1. Remove outliers"
   ]
  },
  {
   "cell_type": "markdown",
   "metadata": {},
   "source": [
    "Before making features, the data need to be preprocessed first. \n",
    "In the dataset, some items were sold more than 2000, also some of the item prices were over 300,000 which is obviously an outlier. \n",
    "\n",
    "So I looked into the distribution of the data using boxplot.\n",
    "\n",
    "The plots show that there are lots of outliers in terms of the definition of outliers in the boxplot, \n",
    "but I simply deleted items that were sold over 1000 and whose price was over 300,000.\n",
    "\n",
    "Also, the negative value in tiem_cnt_day is changed to 0, since negative sales mean refund."
   ]
  },
  {
   "cell_type": "code",
   "execution_count": 171,
   "metadata": {
    "papermill": {
     "duration": 0.793555,
     "end_time": "2020-09-01T15:47:17.412815",
     "exception": false,
     "start_time": "2020-09-01T15:47:16.619260",
     "status": "completed"
    },
    "tags": []
   },
   "outputs": [
    {
     "data": {
      "text/plain": [
       "<AxesSubplot:xlabel='item_price'>"
      ]
     },
     "execution_count": 171,
     "metadata": {},
     "output_type": "execute_result"
    },
    {
     "data": {
      "image/png": "[encoded data removed]",
      "text/plain": [
       "<Figure size 720x288 with 1 Axes>"
      ]
     },
     "metadata": {
      "needs_background": "light"
     },
     "output_type": "display_data"
    },
    {
     "data": {
      "image/png": "[encoded data removed]",
      "text/plain": [
       "<Figure size 720x288 with 1 Axes>"
      ]
     },
     "metadata": {
      "needs_background": "light"
     },
     "output_type": "display_data"
    }
   ],
   "source": [
    "plt.figure(figsize=(10,4))\n",
    "plt.xlim(-100, 3000)\n",
    "flierprops = dict(marker='o', markerfacecolor='purple', markersize=6,\n",
    "                  linestyle='none', markeredgecolor='black')\n",
    "sns.boxplot(x=sales_train.item_cnt_day, flierprops=flierprops)\n",
    "\n",
    "plt.figure(figsize=(10,4))\n",
    "plt.xlim(sales_train.item_price.min(), sales_train.item_price.max()*1.1)\n",
    "sns.boxplot(x=sales_train.item_price, flierprops=flierprops)"
   ]
  },
  {
   "cell_type": "code",
   "execution_count": 172,
   "metadata": {
    "papermill": {
     "duration": 0.4634,
     "end_time": "2020-09-01T15:47:18.583986",
     "exception": false,
     "start_time": "2020-09-01T15:47:18.120586",
     "status": "completed"
    },
    "tags": []
   },
   "outputs": [],
   "source": [
    "train = sales_train[(sales_train.item_price < 100000) & (sales_train.item_price > 0)] \n",
    "train = train[train.item_cnt_day < 1000]\n",
    "train.loc[train.item_cnt_day < 1, \"item_cnt_day\"] = 0"
   ]
  },
  {
   "cell_type": "markdown",
   "metadata": {
    "papermill": {
     "duration": 0.014936,
     "end_time": "2020-09-01T15:47:18.612450",
     "exception": false,
     "start_time": "2020-09-01T15:47:18.597514",
     "status": "completed"
    },
    "tags": []
   },
   "source": [
    "## 2.2. Detect same shops"
   ]
  },
  {
   "cell_type": "markdown",
   "metadata": {},
   "source": [
    "According to most of the kernels in kaggle, there were duplicated shop names but they had different shop_id.\n",
    "So, I refered the kernels and changed the shop_id."
   ]
  },
  {
   "cell_type": "code",
   "execution_count": 173,
   "metadata": {
    "papermill": {
     "duration": 0.085054,
     "end_time": "2020-09-01T15:47:18.751114",
     "exception": false,
     "start_time": "2020-09-01T15:47:18.666060",
     "status": "completed"
    },
    "tags": []
   },
   "outputs": [],
   "source": [
    "train.loc[train.shop_id == 0, 'shop_id'] = 57\n",
    "test.loc[test.shop_id == 0, 'shop_id'] = 57\n",
    "\n",
    "train.loc[train.shop_id == 1, 'shop_id'] = 58\n",
    "test.loc[test.shop_id == 1, 'shop_id'] = 58\n",
    "\n",
    "train.loc[train.shop_id == 40, 'shop_id'] = 39\n",
    "test.loc[test.shop_id == 40, 'shop_id'] = 39\n",
    "\n",
    "train.loc[train.shop_id == 10, 'shop_id'] = 11\n",
    "test.loc[test.shop_id == 10, 'shop_id'] = 11"
   ]
  },
  {
   "cell_type": "markdown",
   "metadata": {
    "papermill": {
     "duration": 0.008806,
     "end_time": "2020-09-01T15:47:18.769525",
     "exception": false,
     "start_time": "2020-09-01T15:47:18.760719",
     "status": "completed"
    },
    "tags": []
   },
   "source": [
    "## 2.3. Simple train dataset"
   ]
  },
  {
   "cell_type": "code",
   "execution_count": 174,
   "metadata": {
    "papermill": {
     "duration": 19.278803,
     "end_time": "2020-09-01T15:47:38.057609",
     "exception": false,
     "start_time": "2020-09-01T15:47:18.778806",
     "status": "completed"
    },
    "tags": []
   },
   "outputs": [
    {
     "data": {
      "text/html": [
       "<div>\n",
       "<style scoped>\n",
       "    .dataframe tbody tr th:only-of-type {\n",
       "        vertical-align: middle;\n",
       "    }\n",
       "\n",
       "    .dataframe tbody tr th {\n",
       "        vertical-align: top;\n",
       "    }\n",
       "\n",
       "    .dataframe thead th {\n",
       "        text-align: right;\n",
       "    }\n",
       "</style>\n",
       "<table border=\"1\" class=\"dataframe\">\n",
       "  <thead>\n",
       "    <tr style=\"text-align: right;\">\n",
       "      <th></th>\n",
       "      <th>shop_id</th>\n",
       "      <th>item_id</th>\n",
       "      <th>date_block_num</th>\n",
       "      <th>item_cnt_month</th>\n",
       "    </tr>\n",
       "  </thead>\n",
       "  <tbody>\n",
       "    <tr>\n",
       "      <th>0</th>\n",
       "      <td>59</td>\n",
       "      <td>22154</td>\n",
       "      <td>0</td>\n",
       "      <td>1.0</td>\n",
       "    </tr>\n",
       "    <tr>\n",
       "      <th>1</th>\n",
       "      <td>59</td>\n",
       "      <td>2552</td>\n",
       "      <td>0</td>\n",
       "      <td>0.0</td>\n",
       "    </tr>\n",
       "    <tr>\n",
       "      <th>2</th>\n",
       "      <td>59</td>\n",
       "      <td>2554</td>\n",
       "      <td>0</td>\n",
       "      <td>0.0</td>\n",
       "    </tr>\n",
       "    <tr>\n",
       "      <th>3</th>\n",
       "      <td>59</td>\n",
       "      <td>2555</td>\n",
       "      <td>0</td>\n",
       "      <td>0.0</td>\n",
       "    </tr>\n",
       "    <tr>\n",
       "      <th>4</th>\n",
       "      <td>59</td>\n",
       "      <td>2564</td>\n",
       "      <td>0</td>\n",
       "      <td>0.0</td>\n",
       "    </tr>\n",
       "  </tbody>\n",
       "</table>\n",
       "</div>"
      ],
      "text/plain": [
       "   shop_id  item_id  date_block_num  item_cnt_month\n",
       "0       59    22154               0             1.0\n",
       "1       59     2552               0             0.0\n",
       "2       59     2554               0             0.0\n",
       "3       59     2555               0             0.0\n",
       "4       59     2564               0             0.0"
      ]
     },
     "execution_count": 174,
     "metadata": {},
     "output_type": "execute_result"
    }
   ],
   "source": [
    "index_cols = ['shop_id', 'item_id', 'date_block_num']\n",
    "\n",
    "df = [] \n",
    "for block_num in train['date_block_num'].unique():\n",
    "    current_shops = train.loc[train['date_block_num'] == block_num, 'shop_id'].unique()\n",
    "    current_items = train.loc[train['date_block_num'] == block_num, 'item_id'].unique()\n",
    "    df.append(np.array(list(product(*[current_shops, current_items, [block_num]])),dtype='int32'))\n",
    "\n",
    "df = pd.DataFrame(np.vstack(df), columns = index_cols,dtype=np.int32)\n",
    "\n",
    "#Add month sales\n",
    "group = train.groupby(['date_block_num','shop_id','item_id']).agg({'item_cnt_day': ['sum']})\n",
    "group.columns = ['item_cnt_month']\n",
    "group.reset_index(inplace=True)\n",
    "\n",
    "df = pd.merge(df, group, on=index_cols, how='left')\n",
    "df['item_cnt_month'] = (df['item_cnt_month']\n",
    "                                .fillna(0)\n",
    "                                .clip(0,20)\n",
    "                                .astype(np.float16))\n",
    "df.head(5)"
   ]
  },
  {
   "cell_type": "markdown",
   "metadata": {
    "papermill": {
     "duration": 0.009632,
     "end_time": "2020-09-01T15:47:38.076940",
     "exception": false,
     "start_time": "2020-09-01T15:47:38.067308",
     "status": "completed"
    },
    "tags": []
   },
   "source": [
    "## 2.4. Add test"
   ]
  },
  {
   "cell_type": "markdown",
   "metadata": {},
   "source": [
    "Some shops and item didn't appear in the trainset. So concatenate df derived from train and test"
   ]
  },
  {
   "cell_type": "code",
   "execution_count": 175,
   "metadata": {
    "papermill": {
     "duration": 0.19645,
     "end_time": "2020-09-01T15:47:38.283167",
     "exception": false,
     "start_time": "2020-09-01T15:47:38.086717",
     "status": "completed"
    },
    "tags": []
   },
   "outputs": [],
   "source": [
    "test['date_block_num'] = 34\n",
    "test['date_block_num'] = test['date_block_num'].astype(np.int8)\n",
    "test['shop_id'] = test['shop_id'].astype(np.int8)\n",
    "test['item_id'] = test['item_id'].astype(np.int16)\n",
    "df = pd.concat([df, test], ignore_index=True, sort=False, keys=index_cols)\n",
    "df.fillna(0, inplace=True)"
   ]
  },
  {
   "cell_type": "code",
   "execution_count": 176,
   "metadata": {},
   "outputs": [],
   "source": [
    "del current_items, current_shops"
   ]
  },
  {
   "cell_type": "markdown",
   "metadata": {
    "_cell_guid": "79c7e3d0-c299-4dcb-8224-4455121ee9b0",
    "_uuid": "d629ff2d2480ee46fbb7e2d37f6b5fab8052498a",
    "papermill": {
     "duration": 0.009478,
     "end_time": "2020-09-01T15:47:38.302751",
     "exception": false,
     "start_time": "2020-09-01T15:47:38.293273",
     "status": "completed"
    },
    "tags": []
   },
   "source": [
    "# 3) Feature engineering"
   ]
  },
  {
   "cell_type": "markdown",
   "metadata": {
    "papermill": {
     "duration": 0.009321,
     "end_time": "2020-09-01T15:47:38.322026",
     "exception": false,
     "start_time": "2020-09-01T15:47:38.312705",
     "status": "completed"
    },
    "tags": []
   },
   "source": [
    "## 3.1. **Shop features**\n",
    "\n",
    "* Get city name for each shop from the shop name\n",
    "* Refer some kernels to get city coords and country part (0-4) based on the map "
   ]
  },
  {
   "cell_type": "code",
   "execution_count": 177,
   "metadata": {
    "papermill": {
     "duration": 0.038983,
     "end_time": "2020-09-01T15:47:38.370982",
     "exception": false,
     "start_time": "2020-09-01T15:47:38.331999",
     "status": "completed"
    },
    "tags": []
   },
   "outputs": [],
   "source": [
    "# Get city name for each shop from the shop name \n",
    "shops['city'] = shops['shop_name'].apply(lambda x: x.split()[0].lower())\n",
    "shops.loc[shops.city == '!якутск', 'city'] = 'якутск'\n",
    "shops['city_code'] = LabelEncoder().fit_transform(shops['city'])\n",
    "\n",
    "# Refer some kernels to get city coords and country part (0-4) based on the map\n",
    "coords = dict()\n",
    "coords['якутск'] = (62.028098, 129.732555, 4)\n",
    "coords['адыгея'] = (44.609764, 40.100516, 3)\n",
    "coords['балашиха'] = (55.8094500, 37.9580600, 1)\n",
    "coords['волжский'] = (53.4305800, 50.1190000, 3)\n",
    "coords['вологда'] = (59.2239000, 39.8839800, 2)\n",
    "coords['воронеж'] = (51.6720400, 39.1843000, 3)\n",
    "coords['выездная'] = (0, 0, 0)\n",
    "coords['жуковский'] = (55.5952800, 38.1202800, 1)\n",
    "coords['интернет-магазин'] = (0, 0, 0)\n",
    "coords['казань'] = (55.7887400, 49.1221400, 4)\n",
    "coords['калуга'] = (54.5293000, 36.2754200, 4)\n",
    "coords['коломна'] = (55.0794400, 38.7783300, 4)\n",
    "coords['красноярск'] = (56.0183900, 92.8671700, 4)\n",
    "coords['курск'] = (51.7373300, 36.1873500, 3)\n",
    "coords['москва'] = (55.7522200, 37.6155600, 1)\n",
    "coords['мытищи'] = (55.9116300, 37.7307600, 1)\n",
    "coords['н.новгород'] = (56.3286700, 44.0020500, 4)\n",
    "coords['новосибирск'] = (55.0415000, 82.9346000, 4)\n",
    "coords['омск'] = (54.9924400, 73.3685900, 4)\n",
    "coords['ростовнадону'] = (47.2313500, 39.7232800, 3)\n",
    "coords['спб'] = (59.9386300, 30.3141300, 2)\n",
    "coords['самара'] = (53.2000700, 50.1500000, 4)\n",
    "coords['сергиев'] = (56.3000000, 38.1333300, 4)\n",
    "coords['сургут'] = (61.2500000, 73.4166700, 4)\n",
    "coords['томск'] = (56.4977100, 84.9743700, 4)\n",
    "coords['тюмень'] = (57.1522200, 65.5272200, 4)\n",
    "coords['уфа'] = (54.7430600, 55.9677900, 4)\n",
    "coords['химки'] = (55.8970400, 37.4296900, 1)\n",
    "coords['цифровой'] = (0, 0, 0)\n",
    "coords['чехов'] = (55.1477000, 37.4772800, 4)\n",
    "coords['ярославль'] = (57.6298700, 39.8736800, 2) \n",
    "\n",
    "shops['city_coord_1'] = shops['city'].apply(lambda x: coords[x][0])\n",
    "shops['city_coord_2'] = shops['city'].apply(lambda x: coords[x][1])\n",
    "shops['country_part'] = shops['city'].apply(lambda x: coords[x][2])\n",
    "\n",
    "shops = shops[['shop_id', 'city_code', 'city_coord_1', 'city_coord_2', 'country_part']]"
   ]
  },
  {
   "cell_type": "markdown",
   "metadata": {
    "papermill": {
     "duration": 0.009337,
     "end_time": "2020-09-01T15:47:40.104354",
     "exception": false,
     "start_time": "2020-09-01T15:47:40.095017",
     "status": "completed"
    },
    "tags": []
   },
   "source": [
    "## 3.2. **Item features**\n",
    "\n",
    "* Get item category from the name of item_category_name. I use the first part of the name.\n",
    "* Change some of the names to more common item category."
   ]
  },
  {
   "cell_type": "code",
   "execution_count": 178,
   "metadata": {
    "papermill": {
     "duration": 0.063182,
     "end_time": "2020-09-01T15:47:40.177422",
     "exception": false,
     "start_time": "2020-09-01T15:47:40.114240",
     "status": "completed"
    },
    "tags": []
   },
   "outputs": [],
   "source": [
    "map_dict = {\n",
    "            'Чистые носители (штучные)': 'Чистые носители',\n",
    "            'Чистые носители (шпиль)' : 'Чистые носители',\n",
    "            'PC ': 'Аксессуары',\n",
    "            'Служебные': 'Служебные '\n",
    "            }\n",
    "items = pd.merge(items, item_categories, on='item_category_id')\n",
    "\n",
    "# Get item category from the name of item_category_name. I use the first part of the name.\n",
    "items['item_category'] = items['item_category_name'].apply(lambda x: x.split('-')[0])\n",
    "items['item_category'] = items['item_category'].apply(lambda x: map_dict[x] if x in map_dict.keys() else x)\n",
    "items['item_category_common'] = LabelEncoder().fit_transform(items['item_category'])\n",
    "\n",
    "# Change some of the name to more common item category.\n",
    "items['item_category_code'] = LabelEncoder().fit_transform(items['item_category_name'])\n",
    "items = items[['item_id', 'item_category_common', 'item_category_code']]"
   ]
  },
  {
   "cell_type": "code",
   "execution_count": 179,
   "metadata": {},
   "outputs": [],
   "source": [
    "df = pd.merge(df, shops, on=['shop_id'], how='left')\n",
    "df = pd.merge(df, items, on=['item_id'], how='left')"
   ]
  },
  {
   "cell_type": "code",
   "execution_count": 180,
   "metadata": {},
   "outputs": [
    {
     "data": {
      "text/plain": [
       "(11056277, 11)"
      ]
     },
     "execution_count": 180,
     "metadata": {},
     "output_type": "execute_result"
    }
   ],
   "source": [
    "df.shape"
   ]
  },
  {
   "cell_type": "markdown",
   "metadata": {
    "papermill": {
     "duration": 0.00947,
     "end_time": "2020-09-01T15:47:42.384405",
     "exception": false,
     "start_time": "2020-09-01T15:47:42.374935",
     "status": "completed"
    },
    "tags": []
   },
   "source": [
    "## 3.3. **Date features**\n",
    "\n",
    "* Get the frequency of weekend purchases : Weekends count (4 or 5)\n",
    "* Number of days in a month"
   ]
  },
  {
   "cell_type": "code",
   "execution_count": 181,
   "metadata": {
    "papermill": {
     "duration": 9.178039,
     "end_time": "2020-09-01T15:47:51.572516",
     "exception": false,
     "start_time": "2020-09-01T15:47:42.394477",
     "status": "completed"
    },
    "tags": []
   },
   "outputs": [],
   "source": [
    "def count_days(date_block_num):\n",
    "    year = 2013 + date_block_num // 12\n",
    "    month = 1 + date_block_num % 12\n",
    "    weeknd_count = len([1 for i in calendar.monthcalendar(year, month) if i[6] != 0])\n",
    "    days_in_month = calendar.monthrange(year, month)[1]\n",
    "    return weeknd_count, days_in_month, month\n",
    "\n",
    "map_dict = {i: count_days(i) for i in range(35)}\n",
    "\n",
    "df['weeknd_count'] = df['date_block_num'].apply(lambda x: map_dict[x][0])\n",
    "df['days_in_month'] = df['date_block_num'].apply(lambda x: map_dict[x][1])"
   ]
  },
  {
   "cell_type": "markdown",
   "metadata": {
    "papermill": {
     "duration": 0.011354,
     "end_time": "2020-09-01T15:47:51.595143",
     "exception": false,
     "start_time": "2020-09-01T15:47:51.583789",
     "status": "completed"
    },
    "tags": []
   },
   "source": [
    "## 3.4. **Interaction features**\n",
    "\n",
    "* Item is new\n",
    "* Item was bought in this shop before"
   ]
  },
  {
   "cell_type": "code",
   "execution_count": 182,
   "metadata": {
    "papermill": {
     "duration": 2.999168,
     "end_time": "2020-09-01T15:47:54.604681",
     "exception": false,
     "start_time": "2020-09-01T15:47:51.605513",
     "status": "completed"
    },
    "tags": []
   },
   "outputs": [],
   "source": [
    "first_item_block = df.groupby(['item_id'])['date_block_num'].min().reset_index()\n",
    "first_item_block['item_first_interaction'] = 1\n",
    "\n",
    "first_shop_item_buy_block = df[df['date_block_num'] > 0].groupby(['shop_id', 'item_id'])['date_block_num'].min().reset_index()\n",
    "first_shop_item_buy_block['first_date_block_num'] = first_shop_item_buy_block['date_block_num']"
   ]
  },
  {
   "cell_type": "code",
   "execution_count": 183,
   "metadata": {
    "papermill": {
     "duration": 6.713578,
     "end_time": "2020-09-01T15:48:01.328182",
     "exception": false,
     "start_time": "2020-09-01T15:47:54.614604",
     "status": "completed"
    },
    "tags": []
   },
   "outputs": [],
   "source": [
    "df = pd.merge(df, first_item_block[['item_id', 'date_block_num', 'item_first_interaction']], on=['item_id', 'date_block_num'], how='left')\n",
    "df = pd.merge(df, first_shop_item_buy_block[['item_id', 'shop_id', 'first_date_block_num']], on=['item_id', 'shop_id'], how='left')\n",
    "\n",
    "df['first_date_block_num'].fillna(100, inplace=True)\n",
    "df['shop_item_sold_before'] = (df['first_date_block_num'] < df['date_block_num']).astype('int8')\n",
    "df.drop(['first_date_block_num'], axis=1, inplace=True)\n",
    "\n",
    "df['item_first_interaction'].fillna(0, inplace=True)\n",
    "df['shop_item_sold_before'].fillna(0, inplace=True)\n",
    " \n",
    "df['item_first_interaction'] = df['item_first_interaction'].astype('int8')  \n",
    "df['shop_item_sold_before'] = df['shop_item_sold_before'].astype('int8') "
   ]
  },
  {
   "cell_type": "code",
   "execution_count": 184,
   "metadata": {},
   "outputs": [],
   "source": [
    "del first_item_block, first_shop_item_buy_block"
   ]
  },
  {
   "cell_type": "markdown",
   "metadata": {
    "papermill": {
     "duration": 0.009394,
     "end_time": "2020-09-01T15:48:01.347744",
     "exception": false,
     "start_time": "2020-09-01T15:48:01.338350",
     "status": "completed"
    },
    "tags": []
   },
   "source": [
    "## 3.5. **lag features**\n",
    "### 3.5.1. Basic lag features"
   ]
  },
  {
   "cell_type": "code",
   "execution_count": 185,
   "metadata": {
    "papermill": {
     "duration": 0.02009,
     "end_time": "2020-09-01T15:48:01.377516",
     "exception": false,
     "start_time": "2020-09-01T15:48:01.357426",
     "status": "completed"
    },
    "tags": []
   },
   "outputs": [],
   "source": [
    "def lag_feature(df, lags, col):\n",
    "    tmp = df[['date_block_num','shop_id','item_id',col]]\n",
    "    for i in lags:\n",
    "        shifted = tmp.copy()\n",
    "        shifted.columns = ['date_block_num','shop_id','item_id', col+'_lag_'+str(i)]\n",
    "        shifted['date_block_num'] += i\n",
    "        df = pd.merge(df, shifted, on=['date_block_num','shop_id','item_id'], how='left')\n",
    "        df[col+'_lag_'+str(i)] = df[col+'_lag_'+str(i)].astype('float16')\n",
    "    return df"
   ]
  },
  {
   "cell_type": "markdown",
   "metadata": {},
   "source": [
    "Add sales lags for last 3 months\n"
   ]
  },
  {
   "cell_type": "code",
   "execution_count": 186,
   "metadata": {
    "papermill": {
     "duration": 22.640679,
     "end_time": "2020-09-01T15:48:24.028231",
     "exception": false,
     "start_time": "2020-09-01T15:48:01.387552",
     "status": "completed"
    },
    "tags": []
   },
   "outputs": [
    {
     "data": {
      "text/plain": [
       "18.94831895828247"
      ]
     },
     "execution_count": 186,
     "metadata": {},
     "output_type": "execute_result"
    }
   ],
   "source": [
    "ts = time.time()\n",
    "df = lag_feature(df, [1, 2, 3], 'item_cnt_month')\n",
    "time.time() - ts"
   ]
  },
  {
   "cell_type": "code",
   "execution_count": 187,
   "metadata": {},
   "outputs": [
    {
     "data": {
      "text/plain": [
       "(11056277, 18)"
      ]
     },
     "execution_count": 187,
     "metadata": {},
     "output_type": "execute_result"
    }
   ],
   "source": [
    "df.shape"
   ]
  },
  {
   "cell_type": "markdown",
   "metadata": {},
   "source": [
    "Add avg shop/item price for last 3 months"
   ]
  },
  {
   "cell_type": "code",
   "execution_count": 188,
   "metadata": {
    "papermill": {
     "duration": 33.305223,
     "end_time": "2020-09-01T15:48:57.343594",
     "exception": false,
     "start_time": "2020-09-01T15:48:24.038371",
     "status": "completed"
    },
    "tags": []
   },
   "outputs": [
    {
     "data": {
      "text/plain": [
       "32.786585569381714"
      ]
     },
     "execution_count": 188,
     "metadata": {},
     "output_type": "execute_result"
    }
   ],
   "source": [
    "ts = time.time()\n",
    "index_cols = ['shop_id', 'item_id', 'date_block_num']\n",
    "group = train.groupby(index_cols)['item_price'].mean().reset_index().rename(columns={\"item_price\": \"avg_shop_price\"}, errors=\"raise\")\n",
    "df = pd.merge(df, group, on=index_cols, how='left')\n",
    "\n",
    "df['avg_shop_price'] = (df['avg_shop_price']\n",
    "                                .fillna(0)\n",
    "                                .astype(np.float16))\n",
    "\n",
    "index_cols = ['item_id', 'date_block_num']\n",
    "group = train.groupby(['date_block_num','item_id'])['item_price'].mean().reset_index().rename(columns={\"item_price\": \"avg_item_price\"}, errors=\"raise\")\n",
    "df = pd.merge(df, group, on=index_cols, how='left')\n",
    "\n",
    "df['avg_item_price'] = (df['avg_item_price']\n",
    "                                .fillna(0)\n",
    "                                .astype(np.float16))\n",
    "\n",
    "df['item_shop_price_avg'] = (df['avg_shop_price'] - df['avg_item_price']) / df['avg_item_price']\n",
    "df['item_shop_price_avg'].fillna(0, inplace=True)\n",
    "\n",
    "df = lag_feature(df, [1, 2, 3], 'item_shop_price_avg')\n",
    "df.drop(['avg_shop_price', 'avg_item_price','item_shop_price_avg'], axis=1, inplace=True)\n",
    "time.time() - ts"
   ]
  },
  {
   "cell_type": "code",
   "execution_count": 189,
   "metadata": {},
   "outputs": [
    {
     "data": {
      "text/plain": [
       "(11056277, 21)"
      ]
     },
     "execution_count": 189,
     "metadata": {},
     "output_type": "execute_result"
    }
   ],
   "source": [
    "df.shape"
   ]
  },
  {
   "cell_type": "markdown",
   "metadata": {
    "papermill": {
     "duration": 0.009434,
     "end_time": "2020-09-01T15:48:57.363313",
     "exception": false,
     "start_time": "2020-09-01T15:48:57.353879",
     "status": "completed"
    },
    "tags": []
   },
   "source": [
    "### 3.5.2 **Target encoding**"
   ]
  },
  {
   "cell_type": "markdown",
   "metadata": {},
   "source": [
    "Add target encoding for items for last 3 months "
   ]
  },
  {
   "cell_type": "code",
   "execution_count": 190,
   "metadata": {
    "papermill": {
     "duration": 29.020962,
     "end_time": "2020-09-01T15:49:26.394167",
     "exception": false,
     "start_time": "2020-09-01T15:48:57.373205",
     "status": "completed"
    },
    "tags": []
   },
   "outputs": [
    {
     "data": {
      "text/plain": [
       "28.499770164489746"
      ]
     },
     "execution_count": 190,
     "metadata": {},
     "output_type": "execute_result"
    }
   ],
   "source": [
    "ts = time.time()\n",
    "item_id_target_mean = df.groupby(['date_block_num','item_id'])['item_cnt_month'].mean().reset_index().rename(columns={\"item_cnt_month\": \"item_target_enc\"}, errors=\"raise\")\n",
    "df = pd.merge(df, item_id_target_mean, on=['date_block_num','item_id'], how='left')\n",
    "\n",
    "df['item_target_enc'] = (df['item_target_enc']\n",
    "                                .fillna(0)\n",
    "                                .astype(np.float16))\n",
    "\n",
    "df = lag_feature(df, [1, 2, 3], 'item_target_enc')\n",
    "df.drop(['item_target_enc'], axis=1, inplace=True)\n",
    "time.time() - ts"
   ]
  },
  {
   "cell_type": "markdown",
   "metadata": {},
   "source": [
    "Add target encoding for item/city for last 3 months \n"
   ]
  },
  {
   "cell_type": "code",
   "execution_count": 191,
   "metadata": {
    "papermill": {
     "duration": 37.262131,
     "end_time": "2020-09-01T15:50:03.666722",
     "exception": false,
     "start_time": "2020-09-01T15:49:26.404591",
     "status": "completed"
    },
    "tags": []
   },
   "outputs": [
    {
     "data": {
      "text/plain": [
       "34.80991721153259"
      ]
     },
     "execution_count": 191,
     "metadata": {},
     "output_type": "execute_result"
    }
   ],
   "source": [
    "ts = time.time()\n",
    "item_id_target_mean = df.groupby(['date_block_num','item_id', 'city_code'])['item_cnt_month'].mean().reset_index().rename(columns={\n",
    "    \"item_cnt_month\": \"item_loc_target_enc\"}, errors=\"raise\")\n",
    "df = pd.merge(df, item_id_target_mean, on=['date_block_num','item_id', 'city_code'], how='left')\n",
    "\n",
    "df['item_loc_target_enc'] = (df['item_loc_target_enc']\n",
    "                                .fillna(0)\n",
    "                                .astype(np.float16))\n",
    "\n",
    "df = lag_feature(df, [1, 2, 3], 'item_loc_target_enc')\n",
    "df.drop(['item_loc_target_enc'], axis=1, inplace=True)\n",
    "time.time() - ts"
   ]
  },
  {
   "cell_type": "markdown",
   "metadata": {},
   "source": [
    "Add target encoding for item/shop for last 3 months "
   ]
  },
  {
   "cell_type": "code",
   "execution_count": 192,
   "metadata": {
    "papermill": {
     "duration": 41.240346,
     "end_time": "2020-09-01T15:50:44.917337",
     "exception": false,
     "start_time": "2020-09-01T15:50:03.676991",
     "status": "completed"
    },
    "tags": []
   },
   "outputs": [
    {
     "data": {
      "text/plain": [
       "36.5771644115448"
      ]
     },
     "execution_count": 192,
     "metadata": {},
     "output_type": "execute_result"
    }
   ],
   "source": [
    "ts = time.time()\n",
    "item_id_target_mean = df.groupby(['date_block_num','item_id', 'shop_id'])['item_cnt_month'].mean().reset_index().rename(columns={\n",
    "    \"item_cnt_month\": \"item_shop_target_enc\"}, errors=\"raise\")\n",
    "\n",
    "df = pd.merge(df, item_id_target_mean, on=['date_block_num','item_id', 'shop_id'], how='left')\n",
    "\n",
    "df['item_shop_target_enc'] = (df['item_shop_target_enc']\n",
    "                                .fillna(0)\n",
    "                                .astype(np.float16))\n",
    "                                \n",
    "df = lag_feature(df, [1, 2, 3], 'item_shop_target_enc')\n",
    "df.drop(['item_shop_target_enc'], axis=1, inplace=True)\n",
    "time.time() - ts"
   ]
  },
  {
   "cell_type": "markdown",
   "metadata": {
    "papermill": {
     "duration": 0.010211,
     "end_time": "2020-09-01T15:50:44.938304",
     "exception": false,
     "start_time": "2020-09-01T15:50:44.928093",
     "status": "completed"
    },
    "tags": []
   },
   "source": [
    "### 3.5.3 Extra interaction features"
   ]
  },
  {
   "cell_type": "markdown",
   "metadata": {},
   "source": [
    "For new items add avg category sales for last 3 months\n"
   ]
  },
  {
   "cell_type": "code",
   "execution_count": 193,
   "metadata": {
    "papermill": {
     "duration": 31.867168,
     "end_time": "2020-09-01T15:51:16.815885",
     "exception": false,
     "start_time": "2020-09-01T15:50:44.948717",
     "status": "completed"
    },
    "tags": []
   },
   "outputs": [
    {
     "data": {
      "text/plain": [
       "28.66535782814026"
      ]
     },
     "execution_count": 193,
     "metadata": {},
     "output_type": "execute_result"
    }
   ],
   "source": [
    "ts = time.time()\n",
    "item_id_target_mean = df[df['item_first_interaction'] == 1].groupby(['date_block_num','item_category_code'])['item_cnt_month'].mean().reset_index().rename(columns={\n",
    "    \"item_cnt_month\": \"new_item_cat_avg\"}, errors=\"raise\")\n",
    "\n",
    "df = pd.merge(df, item_id_target_mean, on=['date_block_num','item_category_code'], how='left')\n",
    "\n",
    "df['new_item_cat_avg'] = (df['new_item_cat_avg']\n",
    "                                .fillna(0)\n",
    "                                .astype(np.float16))\n",
    "\n",
    "df = lag_feature(df, [1, 2, 3], 'new_item_cat_avg')\n",
    "df.drop(['new_item_cat_avg'], axis=1, inplace=True)\n",
    "time.time() - ts"
   ]
  },
  {
   "cell_type": "markdown",
   "metadata": {},
   "source": [
    "For new items add avg category sales in a separate store for last 3 months\n"
   ]
  },
  {
   "cell_type": "code",
   "execution_count": 194,
   "metadata": {
    "papermill": {
     "duration": 32.809828,
     "end_time": "2020-09-01T15:51:49.636161",
     "exception": false,
     "start_time": "2020-09-01T15:51:16.826333",
     "status": "completed"
    },
    "tags": []
   },
   "outputs": [],
   "source": [
    "item_id_target_mean = df[df['item_first_interaction'] == 1].groupby(['date_block_num','item_category_code', 'shop_id'])['item_cnt_month'].mean().reset_index().rename(columns={\n",
    "    \"item_cnt_month\": \"new_item_shop_cat_avg\"}, errors=\"raise\")\n",
    "\n",
    "df = pd.merge(df, item_id_target_mean, on=['date_block_num','item_category_code', 'shop_id'], how='left')\n",
    "\n",
    "df['new_item_shop_cat_avg'] = (df['new_item_shop_cat_avg']\n",
    "                                .fillna(0)\n",
    "                                .astype(np.float16))\n",
    "\n",
    "df = lag_feature(df, [1, 2, 3], 'new_item_shop_cat_avg')\n",
    "df.drop(['new_item_shop_cat_avg'], axis=1, inplace=True)"
   ]
  },
  {
   "cell_type": "markdown",
   "metadata": {
    "papermill": {
     "duration": 0.009941,
     "end_time": "2020-09-01T15:51:49.656854",
     "exception": false,
     "start_time": "2020-09-01T15:51:49.646913",
     "status": "completed"
    },
    "tags": []
   },
   "source": [
    "Add sales for the last three months for similar item (item with id = item_id - 1;\n",
    "kinda tricky feature, but increased the metric significantly)"
   ]
  },
  {
   "cell_type": "code",
   "execution_count": 195,
   "metadata": {
    "papermill": {
     "duration": 26.786284,
     "end_time": "2020-09-01T15:52:16.453586",
     "exception": false,
     "start_time": "2020-09-01T15:51:49.667302",
     "status": "completed"
    },
    "tags": []
   },
   "outputs": [
    {
     "data": {
      "text/plain": [
       "24.119506359100342"
      ]
     },
     "execution_count": 195,
     "metadata": {},
     "output_type": "execute_result"
    }
   ],
   "source": [
    "def lag_feature_adv(df, lags, col):\n",
    "    tmp = df[['date_block_num','shop_id','item_id',col]]\n",
    "    for i in lags:\n",
    "        shifted = tmp.copy()\n",
    "        shifted.columns = ['date_block_num','shop_id','item_id', col+'_lag_'+str(i)+'_adv']\n",
    "        shifted['date_block_num'] += i\n",
    "        shifted['item_id'] -= 1\n",
    "        df = pd.merge(df, shifted, on=['date_block_num','shop_id','item_id'], how='left')\n",
    "        df[col+'_lag_'+str(i)+'_adv'] = df[col+'_lag_'+str(i)+'_adv'].astype('float16')\n",
    "    return df\n",
    "\n",
    "ts = time.time()\n",
    "df = lag_feature_adv(df, [1, 2, 3], 'item_cnt_month')\n",
    "time.time() - ts"
   ]
  },
  {
   "cell_type": "markdown",
   "metadata": {},
   "source": [
    "Concatenate df with the extra information: shops, items, item_categories"
   ]
  },
  {
   "cell_type": "code",
   "execution_count": 196,
   "metadata": {
    "papermill": {
     "duration": 0.01963,
     "end_time": "2020-09-01T15:52:20.629864",
     "exception": false,
     "start_time": "2020-09-01T15:52:20.610234",
     "status": "completed"
    },
    "tags": []
   },
   "outputs": [
    {
     "data": {
      "text/plain": [
       "Index(['shop_id', 'item_id', 'date_block_num', 'item_cnt_month', 'ID',\n",
       "       'city_code', 'city_coord_1', 'city_coord_2', 'country_part',\n",
       "       'item_category_common', 'item_category_code', 'weeknd_count',\n",
       "       'days_in_month', 'item_first_interaction', 'shop_item_sold_before',\n",
       "       'item_cnt_month_lag_1', 'item_cnt_month_lag_2', 'item_cnt_month_lag_3',\n",
       "       'item_shop_price_avg_lag_1', 'item_shop_price_avg_lag_2',\n",
       "       'item_shop_price_avg_lag_3', 'item_target_enc_lag_1',\n",
       "       'item_target_enc_lag_2', 'item_target_enc_lag_3',\n",
       "       'item_loc_target_enc_lag_1', 'item_loc_target_enc_lag_2',\n",
       "       'item_loc_target_enc_lag_3', 'item_shop_target_enc_lag_1',\n",
       "       'item_shop_target_enc_lag_2', 'item_shop_target_enc_lag_3',\n",
       "       'new_item_cat_avg_lag_1', 'new_item_cat_avg_lag_2',\n",
       "       'new_item_cat_avg_lag_3', 'new_item_shop_cat_avg_lag_1',\n",
       "       'new_item_shop_cat_avg_lag_2', 'new_item_shop_cat_avg_lag_3',\n",
       "       'item_cnt_month_lag_1_adv', 'item_cnt_month_lag_2_adv',\n",
       "       'item_cnt_month_lag_3_adv'],\n",
       "      dtype='object')"
      ]
     },
     "execution_count": 196,
     "metadata": {},
     "output_type": "execute_result"
    }
   ],
   "source": [
    "df.columns"
   ]
  },
  {
   "cell_type": "code",
   "execution_count": 197,
   "metadata": {
    "papermill": {
     "duration": 4.057277,
     "end_time": "2020-09-01T15:52:24.698346",
     "exception": false,
     "start_time": "2020-09-01T15:52:20.641069",
     "status": "completed"
    },
    "tags": []
   },
   "outputs": [],
   "source": [
    "#Save dataset\n",
    "df.drop(['ID'], axis=1, inplace=True, errors='ignore')\n",
    "df.to_pickle('lgbm_df2.pkl')"
   ]
  },
  {
   "cell_type": "code",
   "execution_count": 198,
   "metadata": {},
   "outputs": [
    {
     "name": "stdout",
     "output_type": "stream",
     "text": [
      "<class 'pandas.core.frame.DataFrame'>\n",
      "Int64Index: 11056277 entries, 0 to 11056276\n",
      "Data columns (total 38 columns):\n",
      " #   Column                       Dtype  \n",
      "---  ------                       -----  \n",
      " 0   shop_id                      int32  \n",
      " 1   item_id                      int32  \n",
      " 2   date_block_num               int32  \n",
      " 3   item_cnt_month               float16\n",
      " 4   city_code                    int32  \n",
      " 5   city_coord_1                 float64\n",
      " 6   city_coord_2                 float64\n",
      " 7   country_part                 int64  \n",
      " 8   item_category_common         int32  \n",
      " 9   item_category_code           int32  \n",
      " 10  weeknd_count                 int64  \n",
      " 11  days_in_month                int64  \n",
      " 12  item_first_interaction       int8   \n",
      " 13  shop_item_sold_before        int8   \n",
      " 14  item_cnt_month_lag_1         float16\n",
      " 15  item_cnt_month_lag_2         float16\n",
      " 16  item_cnt_month_lag_3         float16\n",
      " 17  item_shop_price_avg_lag_1    float16\n",
      " 18  item_shop_price_avg_lag_2    float16\n",
      " 19  item_shop_price_avg_lag_3    float16\n",
      " 20  item_target_enc_lag_1        float16\n",
      " 21  item_target_enc_lag_2        float16\n",
      " 22  item_target_enc_lag_3        float16\n",
      " 23  item_loc_target_enc_lag_1    float16\n",
      " 24  item_loc_target_enc_lag_2    float16\n",
      " 25  item_loc_target_enc_lag_3    float16\n",
      " 26  item_shop_target_enc_lag_1   float16\n",
      " 27  item_shop_target_enc_lag_2   float16\n",
      " 28  item_shop_target_enc_lag_3   float16\n",
      " 29  new_item_cat_avg_lag_1       float16\n",
      " 30  new_item_cat_avg_lag_2       float16\n",
      " 31  new_item_cat_avg_lag_3       float16\n",
      " 32  new_item_shop_cat_avg_lag_1  float16\n",
      " 33  new_item_shop_cat_avg_lag_2  float16\n",
      " 34  new_item_shop_cat_avg_lag_3  float16\n",
      " 35  item_cnt_month_lag_1_adv     float16\n",
      " 36  item_cnt_month_lag_2_adv     float16\n",
      " 37  item_cnt_month_lag_3_adv     float16\n",
      "dtypes: float16(25), float64(2), int32(6), int64(3), int8(2)\n",
      "memory usage: 1.3 GB\n"
     ]
    }
   ],
   "source": [
    "df.info()"
   ]
  },
  {
   "cell_type": "markdown",
   "metadata": {
    "papermill": {
     "duration": 0.010537,
     "end_time": "2020-09-01T15:52:24.720196",
     "exception": false,
     "start_time": "2020-09-01T15:52:24.709659",
     "status": "completed"
    },
    "tags": []
   },
   "source": [
    "# 4) Train model"
   ]
  },
  {
   "cell_type": "markdown",
   "metadata": {
    "papermill": {
     "duration": 1.861446,
     "end_time": "2020-09-01T15:52:26.592745",
     "exception": false,
     "start_time": "2020-09-01T15:52:24.731299",
     "status": "completed"
    },
    "tags": []
   },
   "source": [
    "import time\n",
    "import pandas as pd\n",
    "import numpy as np\n",
    "from itertools import product\n",
    "import seaborn as sns\n",
    "import matplotlib.pyplot as plt\n",
    "from sklearn.preprocessing import LabelEncoder\n",
    "import lightgbm as lgb\n",
    "import calendar\n",
    "from datetime import datetime\n",
    "import seaborn as sns\n",
    "import matplotlib.pyplot as plt\n",
    "%matplotlib inline\n",
    "\n",
    "import os\n",
    "input_dir = \"../data/input/\"\n",
    "output_dir = \"../data/output/\"\n",
    "\n",
    "df = pd.read_pickle('lgbm_df2.pkl')\n",
    "df.info()"
   ]
  },
  {
   "cell_type": "markdown",
   "metadata": {
    "papermill": {
     "duration": 0.009984,
     "end_time": "2020-09-01T15:52:16.474125",
     "exception": false,
     "start_time": "2020-09-01T15:52:16.464141",
     "status": "completed"
    },
    "tags": []
   },
   "source": [
    "Remove data for the first three months.\n",
    "Through several experiments, I found that dropping the first three months improves the results."
   ]
  },
  {
   "cell_type": "code",
   "execution_count": 199,
   "metadata": {},
   "outputs": [
    {
     "data": {
      "text/html": [
       "<div>\n",
       "<style scoped>\n",
       "    .dataframe tbody tr th:only-of-type {\n",
       "        vertical-align: middle;\n",
       "    }\n",
       "\n",
       "    .dataframe tbody tr th {\n",
       "        vertical-align: top;\n",
       "    }\n",
       "\n",
       "    .dataframe thead th {\n",
       "        text-align: right;\n",
       "    }\n",
       "</style>\n",
       "<table border=\"1\" class=\"dataframe\">\n",
       "  <thead>\n",
       "    <tr style=\"text-align: right;\">\n",
       "      <th></th>\n",
       "      <th>shop_id</th>\n",
       "      <th>item_id</th>\n",
       "      <th>date_block_num</th>\n",
       "      <th>item_cnt_month</th>\n",
       "      <th>city_code</th>\n",
       "      <th>city_coord_1</th>\n",
       "      <th>city_coord_2</th>\n",
       "      <th>country_part</th>\n",
       "      <th>item_category_common</th>\n",
       "      <th>item_category_code</th>\n",
       "      <th>...</th>\n",
       "      <th>item_shop_target_enc_lag_3</th>\n",
       "      <th>new_item_cat_avg_lag_1</th>\n",
       "      <th>new_item_cat_avg_lag_2</th>\n",
       "      <th>new_item_cat_avg_lag_3</th>\n",
       "      <th>new_item_shop_cat_avg_lag_1</th>\n",
       "      <th>new_item_shop_cat_avg_lag_2</th>\n",
       "      <th>new_item_shop_cat_avg_lag_3</th>\n",
       "      <th>item_cnt_month_lag_1_adv</th>\n",
       "      <th>item_cnt_month_lag_2_adv</th>\n",
       "      <th>item_cnt_month_lag_3_adv</th>\n",
       "    </tr>\n",
       "  </thead>\n",
       "  <tbody>\n",
       "    <tr>\n",
       "      <th>1497465</th>\n",
       "      <td>59</td>\n",
       "      <td>22114</td>\n",
       "      <td>4</td>\n",
       "      <td>1.0</td>\n",
       "      <td>30</td>\n",
       "      <td>57.62987</td>\n",
       "      <td>39.87368</td>\n",
       "      <td>2</td>\n",
       "      <td>11</td>\n",
       "      <td>40</td>\n",
       "      <td>...</td>\n",
       "      <td>0.0</td>\n",
       "      <td>0.986816</td>\n",
       "      <td>0.000000</td>\n",
       "      <td>0.000000</td>\n",
       "      <td>0.643066</td>\n",
       "      <td>0.000000</td>\n",
       "      <td>0.000000</td>\n",
       "      <td>0.0</td>\n",
       "      <td>0.0</td>\n",
       "      <td>0.0</td>\n",
       "    </tr>\n",
       "    <tr>\n",
       "      <th>1497466</th>\n",
       "      <td>59</td>\n",
       "      <td>20239</td>\n",
       "      <td>4</td>\n",
       "      <td>0.0</td>\n",
       "      <td>30</td>\n",
       "      <td>57.62987</td>\n",
       "      <td>39.87368</td>\n",
       "      <td>2</td>\n",
       "      <td>11</td>\n",
       "      <td>40</td>\n",
       "      <td>...</td>\n",
       "      <td>0.0</td>\n",
       "      <td>0.986816</td>\n",
       "      <td>0.000000</td>\n",
       "      <td>0.000000</td>\n",
       "      <td>0.643066</td>\n",
       "      <td>0.000000</td>\n",
       "      <td>0.000000</td>\n",
       "      <td>0.0</td>\n",
       "      <td>0.0</td>\n",
       "      <td>0.0</td>\n",
       "    </tr>\n",
       "    <tr>\n",
       "      <th>1497467</th>\n",
       "      <td>59</td>\n",
       "      <td>20238</td>\n",
       "      <td>4</td>\n",
       "      <td>1.0</td>\n",
       "      <td>30</td>\n",
       "      <td>57.62987</td>\n",
       "      <td>39.87368</td>\n",
       "      <td>2</td>\n",
       "      <td>11</td>\n",
       "      <td>40</td>\n",
       "      <td>...</td>\n",
       "      <td>0.0</td>\n",
       "      <td>0.986816</td>\n",
       "      <td>0.643066</td>\n",
       "      <td>0.518066</td>\n",
       "      <td>0.643066</td>\n",
       "      <td>0.411133</td>\n",
       "      <td>0.383301</td>\n",
       "      <td>0.0</td>\n",
       "      <td>0.0</td>\n",
       "      <td>0.0</td>\n",
       "    </tr>\n",
       "    <tr>\n",
       "      <th>1497468</th>\n",
       "      <td>59</td>\n",
       "      <td>20785</td>\n",
       "      <td>4</td>\n",
       "      <td>0.0</td>\n",
       "      <td>30</td>\n",
       "      <td>57.62987</td>\n",
       "      <td>39.87368</td>\n",
       "      <td>2</td>\n",
       "      <td>14</td>\n",
       "      <td>72</td>\n",
       "      <td>...</td>\n",
       "      <td>0.0</td>\n",
       "      <td>0.057465</td>\n",
       "      <td>0.000000</td>\n",
       "      <td>0.000000</td>\n",
       "      <td>0.000000</td>\n",
       "      <td>0.000000</td>\n",
       "      <td>0.000000</td>\n",
       "      <td>0.0</td>\n",
       "      <td>0.0</td>\n",
       "      <td>0.0</td>\n",
       "    </tr>\n",
       "    <tr>\n",
       "      <th>1497469</th>\n",
       "      <td>59</td>\n",
       "      <td>20783</td>\n",
       "      <td>4</td>\n",
       "      <td>0.0</td>\n",
       "      <td>30</td>\n",
       "      <td>57.62987</td>\n",
       "      <td>39.87368</td>\n",
       "      <td>2</td>\n",
       "      <td>14</td>\n",
       "      <td>72</td>\n",
       "      <td>...</td>\n",
       "      <td>0.0</td>\n",
       "      <td>0.057465</td>\n",
       "      <td>0.000000</td>\n",
       "      <td>0.000000</td>\n",
       "      <td>0.000000</td>\n",
       "      <td>0.000000</td>\n",
       "      <td>0.000000</td>\n",
       "      <td>0.0</td>\n",
       "      <td>0.0</td>\n",
       "      <td>0.0</td>\n",
       "    </tr>\n",
       "  </tbody>\n",
       "</table>\n",
       "<p>5 rows × 38 columns</p>\n",
       "</div>"
      ],
      "text/plain": [
       "         shop_id  item_id  date_block_num  item_cnt_month  city_code  \\\n",
       "1497465       59    22114               4             1.0         30   \n",
       "1497466       59    20239               4             0.0         30   \n",
       "1497467       59    20238               4             1.0         30   \n",
       "1497468       59    20785               4             0.0         30   \n",
       "1497469       59    20783               4             0.0         30   \n",
       "\n",
       "         city_coord_1  city_coord_2  country_part  item_category_common  \\\n",
       "1497465      57.62987      39.87368             2                    11   \n",
       "1497466      57.62987      39.87368             2                    11   \n",
       "1497467      57.62987      39.87368             2                    11   \n",
       "1497468      57.62987      39.87368             2                    14   \n",
       "1497469      57.62987      39.87368             2                    14   \n",
       "\n",
       "         item_category_code  ...  item_shop_target_enc_lag_3  \\\n",
       "1497465                  40  ...                         0.0   \n",
       "1497466                  40  ...                         0.0   \n",
       "1497467                  40  ...                         0.0   \n",
       "1497468                  72  ...                         0.0   \n",
       "1497469                  72  ...                         0.0   \n",
       "\n",
       "         new_item_cat_avg_lag_1  new_item_cat_avg_lag_2  \\\n",
       "1497465                0.986816                0.000000   \n",
       "1497466                0.986816                0.000000   \n",
       "1497467                0.986816                0.643066   \n",
       "1497468                0.057465                0.000000   \n",
       "1497469                0.057465                0.000000   \n",
       "\n",
       "         new_item_cat_avg_lag_3  new_item_shop_cat_avg_lag_1  \\\n",
       "1497465                0.000000                     0.643066   \n",
       "1497466                0.000000                     0.643066   \n",
       "1497467                0.518066                     0.643066   \n",
       "1497468                0.000000                     0.000000   \n",
       "1497469                0.000000                     0.000000   \n",
       "\n",
       "         new_item_shop_cat_avg_lag_2  new_item_shop_cat_avg_lag_3  \\\n",
       "1497465                     0.000000                     0.000000   \n",
       "1497466                     0.000000                     0.000000   \n",
       "1497467                     0.411133                     0.383301   \n",
       "1497468                     0.000000                     0.000000   \n",
       "1497469                     0.000000                     0.000000   \n",
       "\n",
       "         item_cnt_month_lag_1_adv  item_cnt_month_lag_2_adv  \\\n",
       "1497465                       0.0                       0.0   \n",
       "1497466                       0.0                       0.0   \n",
       "1497467                       0.0                       0.0   \n",
       "1497468                       0.0                       0.0   \n",
       "1497469                       0.0                       0.0   \n",
       "\n",
       "         item_cnt_month_lag_3_adv  \n",
       "1497465                       0.0  \n",
       "1497466                       0.0  \n",
       "1497467                       0.0  \n",
       "1497468                       0.0  \n",
       "1497469                       0.0  \n",
       "\n",
       "[5 rows x 38 columns]"
      ]
     },
     "execution_count": 199,
     "metadata": {},
     "output_type": "execute_result"
    }
   ],
   "source": [
    "df.fillna(0, inplace=True)\n",
    "df = df[(df['date_block_num'] > 3)]\n",
    "df.head()"
   ]
  },
  {
   "cell_type": "code",
   "execution_count": 200,
   "metadata": {
    "papermill": {
     "duration": 3.650725,
     "end_time": "2020-09-01T15:52:30.254694",
     "exception": false,
     "start_time": "2020-09-01T15:52:26.603969",
     "status": "completed"
    },
    "tags": []
   },
   "outputs": [],
   "source": [
    "X_train = df[df.date_block_num < 33].drop(['item_cnt_month'], axis=1)\n",
    "Y_train = df[df.date_block_num < 33]['item_cnt_month']\n",
    "X_valid = df[df.date_block_num == 33].drop(['item_cnt_month'], axis=1)\n",
    "Y_valid = df[df.date_block_num == 33]['item_cnt_month']\n",
    "X_test = df[df.date_block_num == 34].drop(['item_cnt_month'], axis=1)"
   ]
  },
  {
   "cell_type": "markdown",
   "metadata": {},
   "source": [
    "Lightgbm got the best performance. XGB and Catboot didn't perform well."
   ]
  },
  {
   "cell_type": "code",
   "execution_count": 201,
   "metadata": {},
   "outputs": [
    {
     "name": "stderr",
     "output_type": "stream",
     "text": [
      "C:\\Users\\user\\anaconda3\\envs\\tensor\\lib\\site-packages\\lightgbm\\basic.py:1555: UserWarning: categorical_feature in Dataset is overridden.\n",
      "New categorical_feature is ['city_code', 'country_part', 'item_category_code', 'item_category_common']\n",
      "  'New categorical_feature is {}'.format(sorted(list(categorical_feature))))\n"
     ]
    },
    {
     "name": "stdout",
     "output_type": "stream",
     "text": [
      "[LightGBM] [Warning] Auto-choosing row-wise multi-threading, the overhead of testing was 0.452354 seconds.\n",
      "You can set `force_row_wise=true` to remove the overhead.\n",
      "And if memory is not enough, you can set `force_col_wise=true`.\n"
     ]
    },
    {
     "name": "stderr",
     "output_type": "stream",
     "text": [
      "C:\\Users\\user\\anaconda3\\envs\\tensor\\lib\\site-packages\\lightgbm\\basic.py:1286: UserWarning: Overriding the parameters from Reference Dataset.\n",
      "  warnings.warn('Overriding the parameters from Reference Dataset.')\n",
      "C:\\Users\\user\\anaconda3\\envs\\tensor\\lib\\site-packages\\lightgbm\\basic.py:1098: UserWarning: categorical_column in param dict is overridden.\n",
      "  warnings.warn('{} in param dict is overridden.'.format(cat_alias))\n"
     ]
    },
    {
     "name": "stdout",
     "output_type": "stream",
     "text": [
      "Training until validation scores don't improve for 100 rounds\n",
      "[5]\ttraining's rmse: 1.20859\tvalid_1's rmse: 1.12815\n",
      "[10]\ttraining's rmse: 1.19584\tvalid_1's rmse: 1.1181\n",
      "[15]\ttraining's rmse: 1.18359\tvalid_1's rmse: 1.10858\n",
      "[20]\ttraining's rmse: 1.17153\tvalid_1's rmse: 1.09932\n",
      "[25]\ttraining's rmse: 1.16023\tvalid_1's rmse: 1.09053\n",
      "[30]\ttraining's rmse: 1.14939\tvalid_1's rmse: 1.08239\n",
      "[35]\ttraining's rmse: 1.13895\tvalid_1's rmse: 1.07466\n",
      "[40]\ttraining's rmse: 1.12866\tvalid_1's rmse: 1.06677\n",
      "[45]\ttraining's rmse: 1.1187\tvalid_1's rmse: 1.05921\n",
      "[50]\ttraining's rmse: 1.10968\tvalid_1's rmse: 1.05289\n",
      "[55]\ttraining's rmse: 1.10045\tvalid_1's rmse: 1.04626\n",
      "[60]\ttraining's rmse: 1.09183\tvalid_1's rmse: 1.0398\n",
      "[65]\ttraining's rmse: 1.08366\tvalid_1's rmse: 1.034\n",
      "[70]\ttraining's rmse: 1.07566\tvalid_1's rmse: 1.02846\n",
      "[75]\ttraining's rmse: 1.06795\tvalid_1's rmse: 1.02271\n",
      "[80]\ttraining's rmse: 1.06054\tvalid_1's rmse: 1.01748\n",
      "[85]\ttraining's rmse: 1.0534\tvalid_1's rmse: 1.01245\n",
      "[90]\ttraining's rmse: 1.0464\tvalid_1's rmse: 1.00729\n",
      "[95]\ttraining's rmse: 1.03969\tvalid_1's rmse: 1.0025\n",
      "[100]\ttraining's rmse: 1.03299\tvalid_1's rmse: 0.997752\n",
      "[105]\ttraining's rmse: 1.02686\tvalid_1's rmse: 0.99363\n",
      "[110]\ttraining's rmse: 1.02109\tvalid_1's rmse: 0.989787\n",
      "[115]\ttraining's rmse: 1.01553\tvalid_1's rmse: 0.986049\n",
      "[120]\ttraining's rmse: 1.00988\tvalid_1's rmse: 0.982344\n",
      "[125]\ttraining's rmse: 1.00447\tvalid_1's rmse: 0.978576\n",
      "[130]\ttraining's rmse: 0.99905\tvalid_1's rmse: 0.975149\n",
      "[135]\ttraining's rmse: 0.993881\tvalid_1's rmse: 0.972099\n",
      "[140]\ttraining's rmse: 0.989161\tvalid_1's rmse: 0.969005\n",
      "[145]\ttraining's rmse: 0.984674\tvalid_1's rmse: 0.96602\n",
      "[150]\ttraining's rmse: 0.980087\tvalid_1's rmse: 0.962783\n",
      "[155]\ttraining's rmse: 0.9758\tvalid_1's rmse: 0.960089\n",
      "[160]\ttraining's rmse: 0.971729\tvalid_1's rmse: 0.957355\n",
      "[165]\ttraining's rmse: 0.967797\tvalid_1's rmse: 0.954935\n",
      "[170]\ttraining's rmse: 0.963826\tvalid_1's rmse: 0.952329\n",
      "[175]\ttraining's rmse: 0.960159\tvalid_1's rmse: 0.94994\n",
      "[180]\ttraining's rmse: 0.956516\tvalid_1's rmse: 0.947817\n",
      "[185]\ttraining's rmse: 0.953084\tvalid_1's rmse: 0.9458\n",
      "[190]\ttraining's rmse: 0.949708\tvalid_1's rmse: 0.943708\n",
      "[195]\ttraining's rmse: 0.946477\tvalid_1's rmse: 0.941926\n",
      "[200]\ttraining's rmse: 0.943514\tvalid_1's rmse: 0.940321\n",
      "[205]\ttraining's rmse: 0.940442\tvalid_1's rmse: 0.938536\n",
      "[210]\ttraining's rmse: 0.937526\tvalid_1's rmse: 0.937103\n",
      "[215]\ttraining's rmse: 0.934662\tvalid_1's rmse: 0.935728\n",
      "[220]\ttraining's rmse: 0.932019\tvalid_1's rmse: 0.934233\n",
      "[225]\ttraining's rmse: 0.929341\tvalid_1's rmse: 0.932491\n",
      "[230]\ttraining's rmse: 0.926801\tvalid_1's rmse: 0.931326\n",
      "[235]\ttraining's rmse: 0.924333\tvalid_1's rmse: 0.929962\n",
      "[240]\ttraining's rmse: 0.922021\tvalid_1's rmse: 0.928587\n",
      "[245]\ttraining's rmse: 0.919881\tvalid_1's rmse: 0.927454\n",
      "[250]\ttraining's rmse: 0.917609\tvalid_1's rmse: 0.92621\n",
      "[255]\ttraining's rmse: 0.915525\tvalid_1's rmse: 0.924963\n",
      "[260]\ttraining's rmse: 0.913243\tvalid_1's rmse: 0.923909\n",
      "[265]\ttraining's rmse: 0.911405\tvalid_1's rmse: 0.923075\n",
      "[270]\ttraining's rmse: 0.909536\tvalid_1's rmse: 0.922183\n",
      "[275]\ttraining's rmse: 0.90775\tvalid_1's rmse: 0.921237\n",
      "[280]\ttraining's rmse: 0.905958\tvalid_1's rmse: 0.920528\n",
      "[285]\ttraining's rmse: 0.904167\tvalid_1's rmse: 0.919874\n",
      "[290]\ttraining's rmse: 0.902427\tvalid_1's rmse: 0.919112\n",
      "[295]\ttraining's rmse: 0.900661\tvalid_1's rmse: 0.918293\n",
      "[300]\ttraining's rmse: 0.899016\tvalid_1's rmse: 0.917446\n",
      "[305]\ttraining's rmse: 0.897404\tvalid_1's rmse: 0.916793\n",
      "[310]\ttraining's rmse: 0.895885\tvalid_1's rmse: 0.91599\n",
      "[315]\ttraining's rmse: 0.894424\tvalid_1's rmse: 0.915211\n",
      "[320]\ttraining's rmse: 0.892822\tvalid_1's rmse: 0.914625\n",
      "[325]\ttraining's rmse: 0.89145\tvalid_1's rmse: 0.913899\n",
      "[330]\ttraining's rmse: 0.890162\tvalid_1's rmse: 0.913169\n",
      "[335]\ttraining's rmse: 0.888845\tvalid_1's rmse: 0.912518\n",
      "[340]\ttraining's rmse: 0.887544\tvalid_1's rmse: 0.912008\n",
      "[345]\ttraining's rmse: 0.886371\tvalid_1's rmse: 0.91151\n",
      "[350]\ttraining's rmse: 0.885098\tvalid_1's rmse: 0.910879\n",
      "[355]\ttraining's rmse: 0.883818\tvalid_1's rmse: 0.91058\n",
      "[360]\ttraining's rmse: 0.882676\tvalid_1's rmse: 0.91003\n",
      "[365]\ttraining's rmse: 0.881534\tvalid_1's rmse: 0.909801\n",
      "[370]\ttraining's rmse: 0.880174\tvalid_1's rmse: 0.909564\n",
      "[375]\ttraining's rmse: 0.879108\tvalid_1's rmse: 0.909122\n",
      "[380]\ttraining's rmse: 0.878006\tvalid_1's rmse: 0.908609\n",
      "[385]\ttraining's rmse: 0.876989\tvalid_1's rmse: 0.908296\n",
      "[390]\ttraining's rmse: 0.87594\tvalid_1's rmse: 0.90795\n",
      "[395]\ttraining's rmse: 0.874886\tvalid_1's rmse: 0.907566\n",
      "[400]\ttraining's rmse: 0.873832\tvalid_1's rmse: 0.907091\n",
      "[405]\ttraining's rmse: 0.872928\tvalid_1's rmse: 0.906764\n",
      "[410]\ttraining's rmse: 0.872076\tvalid_1's rmse: 0.906366\n",
      "[415]\ttraining's rmse: 0.871205\tvalid_1's rmse: 0.905988\n",
      "[420]\ttraining's rmse: 0.870372\tvalid_1's rmse: 0.905658\n",
      "[425]\ttraining's rmse: 0.869456\tvalid_1's rmse: 0.905457\n",
      "[430]\ttraining's rmse: 0.868643\tvalid_1's rmse: 0.905058\n",
      "[435]\ttraining's rmse: 0.867656\tvalid_1's rmse: 0.904632\n",
      "[440]\ttraining's rmse: 0.866844\tvalid_1's rmse: 0.904206\n",
      "[445]\ttraining's rmse: 0.865878\tvalid_1's rmse: 0.903781\n",
      "[450]\ttraining's rmse: 0.865061\tvalid_1's rmse: 0.903504\n",
      "[455]\ttraining's rmse: 0.864249\tvalid_1's rmse: 0.90306\n",
      "[460]\ttraining's rmse: 0.863558\tvalid_1's rmse: 0.902845\n",
      "[465]\ttraining's rmse: 0.862761\tvalid_1's rmse: 0.902732\n",
      "[470]\ttraining's rmse: 0.862009\tvalid_1's rmse: 0.902437\n",
      "[475]\ttraining's rmse: 0.86128\tvalid_1's rmse: 0.902157\n",
      "[480]\ttraining's rmse: 0.860601\tvalid_1's rmse: 0.901888\n",
      "[485]\ttraining's rmse: 0.85974\tvalid_1's rmse: 0.901495\n",
      "[490]\ttraining's rmse: 0.859129\tvalid_1's rmse: 0.901255\n",
      "[495]\ttraining's rmse: 0.858452\tvalid_1's rmse: 0.901011\n",
      "[500]\ttraining's rmse: 0.857808\tvalid_1's rmse: 0.900813\n",
      "[505]\ttraining's rmse: 0.857151\tvalid_1's rmse: 0.900629\n",
      "[510]\ttraining's rmse: 0.856506\tvalid_1's rmse: 0.900456\n",
      "[515]\ttraining's rmse: 0.855846\tvalid_1's rmse: 0.900426\n",
      "[520]\ttraining's rmse: 0.855261\tvalid_1's rmse: 0.900262\n",
      "[525]\ttraining's rmse: 0.854587\tvalid_1's rmse: 0.900196\n",
      "[530]\ttraining's rmse: 0.854024\tvalid_1's rmse: 0.89996\n",
      "[535]\ttraining's rmse: 0.853493\tvalid_1's rmse: 0.89977\n",
      "[540]\ttraining's rmse: 0.852794\tvalid_1's rmse: 0.899678\n",
      "[545]\ttraining's rmse: 0.852171\tvalid_1's rmse: 0.899544\n",
      "[550]\ttraining's rmse: 0.851601\tvalid_1's rmse: 0.899354\n",
      "[555]\ttraining's rmse: 0.851039\tvalid_1's rmse: 0.899246\n",
      "[560]\ttraining's rmse: 0.850497\tvalid_1's rmse: 0.899074\n",
      "[565]\ttraining's rmse: 0.849985\tvalid_1's rmse: 0.898974\n",
      "[570]\ttraining's rmse: 0.849407\tvalid_1's rmse: 0.89891\n",
      "[575]\ttraining's rmse: 0.848867\tvalid_1's rmse: 0.89863\n",
      "[580]\ttraining's rmse: 0.848329\tvalid_1's rmse: 0.898322\n",
      "[585]\ttraining's rmse: 0.847838\tvalid_1's rmse: 0.89822\n",
      "[590]\ttraining's rmse: 0.847344\tvalid_1's rmse: 0.89793\n",
      "[595]\ttraining's rmse: 0.846842\tvalid_1's rmse: 0.89764\n",
      "[600]\ttraining's rmse: 0.846318\tvalid_1's rmse: 0.897478\n",
      "[605]\ttraining's rmse: 0.845808\tvalid_1's rmse: 0.897392\n",
      "[610]\ttraining's rmse: 0.845351\tvalid_1's rmse: 0.897341\n",
      "[615]\ttraining's rmse: 0.844903\tvalid_1's rmse: 0.897143\n",
      "[620]\ttraining's rmse: 0.844448\tvalid_1's rmse: 0.897109\n",
      "[625]\ttraining's rmse: 0.843894\tvalid_1's rmse: 0.89702\n",
      "[630]\ttraining's rmse: 0.843482\tvalid_1's rmse: 0.896963\n",
      "[635]\ttraining's rmse: 0.842968\tvalid_1's rmse: 0.896866\n",
      "[640]\ttraining's rmse: 0.842525\tvalid_1's rmse: 0.896744\n",
      "[645]\ttraining's rmse: 0.842058\tvalid_1's rmse: 0.896705\n",
      "[650]\ttraining's rmse: 0.841592\tvalid_1's rmse: 0.896524\n",
      "[655]\ttraining's rmse: 0.84116\tvalid_1's rmse: 0.896441\n",
      "[660]\ttraining's rmse: 0.840681\tvalid_1's rmse: 0.896356\n",
      "[665]\ttraining's rmse: 0.840272\tvalid_1's rmse: 0.8963\n",
      "[670]\ttraining's rmse: 0.839799\tvalid_1's rmse: 0.896216\n",
      "[675]\ttraining's rmse: 0.839374\tvalid_1's rmse: 0.896254\n",
      "[680]\ttraining's rmse: 0.838882\tvalid_1's rmse: 0.89618\n",
      "[685]\ttraining's rmse: 0.83853\tvalid_1's rmse: 0.89595\n",
      "[690]\ttraining's rmse: 0.838119\tvalid_1's rmse: 0.895992\n",
      "[695]\ttraining's rmse: 0.837681\tvalid_1's rmse: 0.895981\n",
      "[700]\ttraining's rmse: 0.837317\tvalid_1's rmse: 0.895839\n",
      "[705]\ttraining's rmse: 0.836947\tvalid_1's rmse: 0.895818\n",
      "[710]\ttraining's rmse: 0.83652\tvalid_1's rmse: 0.89588\n",
      "[715]\ttraining's rmse: 0.836101\tvalid_1's rmse: 0.895799\n",
      "[720]\ttraining's rmse: 0.835711\tvalid_1's rmse: 0.89569\n",
      "[725]\ttraining's rmse: 0.835329\tvalid_1's rmse: 0.895703\n",
      "[730]\ttraining's rmse: 0.834974\tvalid_1's rmse: 0.895628\n",
      "[735]\ttraining's rmse: 0.834622\tvalid_1's rmse: 0.895421\n",
      "[740]\ttraining's rmse: 0.834262\tvalid_1's rmse: 0.895323\n",
      "[745]\ttraining's rmse: 0.833847\tvalid_1's rmse: 0.895257\n",
      "[750]\ttraining's rmse: 0.833445\tvalid_1's rmse: 0.895309\n",
      "[755]\ttraining's rmse: 0.833032\tvalid_1's rmse: 0.895385\n",
      "[760]\ttraining's rmse: 0.832566\tvalid_1's rmse: 0.895447\n",
      "[765]\ttraining's rmse: 0.832167\tvalid_1's rmse: 0.895357\n",
      "[770]\ttraining's rmse: 0.83181\tvalid_1's rmse: 0.895269\n",
      "[775]\ttraining's rmse: 0.831478\tvalid_1's rmse: 0.895174\n",
      "[780]\ttraining's rmse: 0.831067\tvalid_1's rmse: 0.895064\n",
      "[785]\ttraining's rmse: 0.830678\tvalid_1's rmse: 0.894775\n",
      "[790]\ttraining's rmse: 0.830329\tvalid_1's rmse: 0.894865\n",
      "[795]\ttraining's rmse: 0.830033\tvalid_1's rmse: 0.894771\n",
      "[800]\ttraining's rmse: 0.829751\tvalid_1's rmse: 0.894746\n",
      "[805]\ttraining's rmse: 0.829428\tvalid_1's rmse: 0.895044\n",
      "[810]\ttraining's rmse: 0.829087\tvalid_1's rmse: 0.894968\n",
      "[815]\ttraining's rmse: 0.828762\tvalid_1's rmse: 0.894729\n",
      "[820]\ttraining's rmse: 0.82843\tvalid_1's rmse: 0.894703\n",
      "[825]\ttraining's rmse: 0.828129\tvalid_1's rmse: 0.894543\n",
      "[830]\ttraining's rmse: 0.827815\tvalid_1's rmse: 0.894443\n",
      "[835]\ttraining's rmse: 0.82747\tvalid_1's rmse: 0.894354\n",
      "[840]\ttraining's rmse: 0.827183\tvalid_1's rmse: 0.894345\n",
      "[845]\ttraining's rmse: 0.826869\tvalid_1's rmse: 0.894271\n",
      "[850]\ttraining's rmse: 0.826561\tvalid_1's rmse: 0.894102\n",
      "[855]\ttraining's rmse: 0.826215\tvalid_1's rmse: 0.894031\n",
      "[860]\ttraining's rmse: 0.825946\tvalid_1's rmse: 0.89398\n",
      "[865]\ttraining's rmse: 0.825628\tvalid_1's rmse: 0.894044\n",
      "[870]\ttraining's rmse: 0.825323\tvalid_1's rmse: 0.893993\n",
      "[875]\ttraining's rmse: 0.824994\tvalid_1's rmse: 0.893924\n",
      "[880]\ttraining's rmse: 0.8246\tvalid_1's rmse: 0.893707\n",
      "[885]\ttraining's rmse: 0.824308\tvalid_1's rmse: 0.893681\n",
      "[890]\ttraining's rmse: 0.823994\tvalid_1's rmse: 0.893635\n",
      "[895]\ttraining's rmse: 0.823764\tvalid_1's rmse: 0.893672\n",
      "[900]\ttraining's rmse: 0.823461\tvalid_1's rmse: 0.893683\n",
      "[905]\ttraining's rmse: 0.823194\tvalid_1's rmse: 0.893637\n",
      "[910]\ttraining's rmse: 0.822859\tvalid_1's rmse: 0.893492\n",
      "[915]\ttraining's rmse: 0.822536\tvalid_1's rmse: 0.893519\n",
      "[920]\ttraining's rmse: 0.822221\tvalid_1's rmse: 0.89353\n",
      "[925]\ttraining's rmse: 0.821925\tvalid_1's rmse: 0.89345\n",
      "[930]\ttraining's rmse: 0.821651\tvalid_1's rmse: 0.893326\n",
      "[935]\ttraining's rmse: 0.821344\tvalid_1's rmse: 0.893356\n",
      "[940]\ttraining's rmse: 0.821095\tvalid_1's rmse: 0.893235\n",
      "[945]\ttraining's rmse: 0.820779\tvalid_1's rmse: 0.893147\n",
      "[950]\ttraining's rmse: 0.820515\tvalid_1's rmse: 0.892813\n",
      "[955]\ttraining's rmse: 0.820283\tvalid_1's rmse: 0.892614\n",
      "[960]\ttraining's rmse: 0.820001\tvalid_1's rmse: 0.892655\n",
      "[965]\ttraining's rmse: 0.819777\tvalid_1's rmse: 0.892599\n",
      "[970]\ttraining's rmse: 0.819422\tvalid_1's rmse: 0.892495\n",
      "[975]\ttraining's rmse: 0.819162\tvalid_1's rmse: 0.892345\n",
      "[980]\ttraining's rmse: 0.818907\tvalid_1's rmse: 0.89235\n",
      "[985]\ttraining's rmse: 0.81868\tvalid_1's rmse: 0.892335\n",
      "[990]\ttraining's rmse: 0.818446\tvalid_1's rmse: 0.892295\n",
      "[995]\ttraining's rmse: 0.818128\tvalid_1's rmse: 0.892449\n",
      "[1000]\ttraining's rmse: 0.817902\tvalid_1's rmse: 0.892489\n",
      "[1005]\ttraining's rmse: 0.817592\tvalid_1's rmse: 0.892315\n",
      "[1010]\ttraining's rmse: 0.817266\tvalid_1's rmse: 0.89248\n",
      "[1015]\ttraining's rmse: 0.817013\tvalid_1's rmse: 0.892471\n",
      "[1020]\ttraining's rmse: 0.816756\tvalid_1's rmse: 0.892257\n",
      "[1025]\ttraining's rmse: 0.816516\tvalid_1's rmse: 0.89206\n",
      "[1030]\ttraining's rmse: 0.816273\tvalid_1's rmse: 0.89203\n",
      "[1035]\ttraining's rmse: 0.816061\tvalid_1's rmse: 0.891998\n",
      "[1040]\ttraining's rmse: 0.815854\tvalid_1's rmse: 0.892045\n",
      "[1045]\ttraining's rmse: 0.815627\tvalid_1's rmse: 0.892022\n",
      "[1050]\ttraining's rmse: 0.815382\tvalid_1's rmse: 0.891959\n",
      "[1055]\ttraining's rmse: 0.815104\tvalid_1's rmse: 0.8919\n",
      "[1060]\ttraining's rmse: 0.814842\tvalid_1's rmse: 0.8919\n",
      "[1065]\ttraining's rmse: 0.814496\tvalid_1's rmse: 0.891938\n",
      "[1070]\ttraining's rmse: 0.814243\tvalid_1's rmse: 0.891913\n",
      "[1075]\ttraining's rmse: 0.813985\tvalid_1's rmse: 0.891651\n",
      "[1080]\ttraining's rmse: 0.81366\tvalid_1's rmse: 0.891621\n",
      "[1085]\ttraining's rmse: 0.813412\tvalid_1's rmse: 0.891599\n",
      "[1090]\ttraining's rmse: 0.813206\tvalid_1's rmse: 0.891564\n",
      "[1095]\ttraining's rmse: 0.812997\tvalid_1's rmse: 0.891533\n",
      "[1100]\ttraining's rmse: 0.812783\tvalid_1's rmse: 0.891522\n",
      "[1105]\ttraining's rmse: 0.812391\tvalid_1's rmse: 0.891615\n",
      "[1110]\ttraining's rmse: 0.812212\tvalid_1's rmse: 0.891577\n",
      "[1115]\ttraining's rmse: 0.811935\tvalid_1's rmse: 0.891554\n",
      "[1120]\ttraining's rmse: 0.811686\tvalid_1's rmse: 0.891435\n",
      "[1125]\ttraining's rmse: 0.811459\tvalid_1's rmse: 0.891479\n",
      "[1130]\ttraining's rmse: 0.811255\tvalid_1's rmse: 0.891532\n",
      "[1135]\ttraining's rmse: 0.811048\tvalid_1's rmse: 0.89153\n",
      "[1140]\ttraining's rmse: 0.810868\tvalid_1's rmse: 0.891475\n",
      "[1145]\ttraining's rmse: 0.810683\tvalid_1's rmse: 0.891441\n",
      "[1150]\ttraining's rmse: 0.810455\tvalid_1's rmse: 0.891589\n",
      "[1155]\ttraining's rmse: 0.810215\tvalid_1's rmse: 0.891609\n",
      "[1160]\ttraining's rmse: 0.810037\tvalid_1's rmse: 0.89154\n",
      "[1165]\ttraining's rmse: 0.809768\tvalid_1's rmse: 0.891707\n",
      "[1170]\ttraining's rmse: 0.80958\tvalid_1's rmse: 0.891703\n",
      "[1175]\ttraining's rmse: 0.809413\tvalid_1's rmse: 0.891744\n",
      "[1180]\ttraining's rmse: 0.809231\tvalid_1's rmse: 0.891709\n",
      "[1185]\ttraining's rmse: 0.809004\tvalid_1's rmse: 0.891732\n",
      "[1190]\ttraining's rmse: 0.808774\tvalid_1's rmse: 0.891481\n",
      "[1195]\ttraining's rmse: 0.80862\tvalid_1's rmse: 0.891463\n",
      "[1200]\ttraining's rmse: 0.80838\tvalid_1's rmse: 0.891481\n",
      "[1205]\ttraining's rmse: 0.808187\tvalid_1's rmse: 0.891498\n",
      "[1210]\ttraining's rmse: 0.807998\tvalid_1's rmse: 0.891505\n",
      "[1215]\ttraining's rmse: 0.807727\tvalid_1's rmse: 0.891506\n",
      "[1220]\ttraining's rmse: 0.807541\tvalid_1's rmse: 0.891417\n",
      "[1225]\ttraining's rmse: 0.807373\tvalid_1's rmse: 0.891384\n",
      "[1230]\ttraining's rmse: 0.807068\tvalid_1's rmse: 0.891364\n",
      "[1235]\ttraining's rmse: 0.806852\tvalid_1's rmse: 0.891376\n",
      "[1240]\ttraining's rmse: 0.806667\tvalid_1's rmse: 0.891374\n",
      "[1245]\ttraining's rmse: 0.806411\tvalid_1's rmse: 0.891442\n",
      "[1250]\ttraining's rmse: 0.806215\tvalid_1's rmse: 0.891427\n",
      "[1255]\ttraining's rmse: 0.806016\tvalid_1's rmse: 0.891387\n",
      "[1260]\ttraining's rmse: 0.805836\tvalid_1's rmse: 0.8914\n",
      "[1265]\ttraining's rmse: 0.805649\tvalid_1's rmse: 0.891406\n",
      "[1270]\ttraining's rmse: 0.805458\tvalid_1's rmse: 0.89133\n",
      "[1275]\ttraining's rmse: 0.80531\tvalid_1's rmse: 0.891314\n",
      "[1280]\ttraining's rmse: 0.805129\tvalid_1's rmse: 0.891282\n",
      "[1285]\ttraining's rmse: 0.804932\tvalid_1's rmse: 0.891291\n",
      "[1290]\ttraining's rmse: 0.804745\tvalid_1's rmse: 0.891288\n",
      "[1295]\ttraining's rmse: 0.804553\tvalid_1's rmse: 0.891142\n",
      "[1300]\ttraining's rmse: 0.804391\tvalid_1's rmse: 0.891131\n",
      "[1305]\ttraining's rmse: 0.804161\tvalid_1's rmse: 0.891195\n",
      "[1310]\ttraining's rmse: 0.803978\tvalid_1's rmse: 0.891174\n",
      "[1315]\ttraining's rmse: 0.803764\tvalid_1's rmse: 0.891174\n",
      "[1320]\ttraining's rmse: 0.803633\tvalid_1's rmse: 0.891163\n",
      "[1325]\ttraining's rmse: 0.803479\tvalid_1's rmse: 0.891066\n",
      "[1330]\ttraining's rmse: 0.803319\tvalid_1's rmse: 0.890952\n",
      "[1335]\ttraining's rmse: 0.803084\tvalid_1's rmse: 0.890898\n",
      "[1340]\ttraining's rmse: 0.802938\tvalid_1's rmse: 0.890849\n",
      "[1345]\ttraining's rmse: 0.802802\tvalid_1's rmse: 0.890856\n",
      "[1350]\ttraining's rmse: 0.802658\tvalid_1's rmse: 0.890823\n",
      "[1355]\ttraining's rmse: 0.802498\tvalid_1's rmse: 0.890807\n",
      "[1360]\ttraining's rmse: 0.802341\tvalid_1's rmse: 0.890775\n",
      "[1365]\ttraining's rmse: 0.802182\tvalid_1's rmse: 0.890749\n",
      "[1370]\ttraining's rmse: 0.802012\tvalid_1's rmse: 0.8907\n",
      "[1375]\ttraining's rmse: 0.801869\tvalid_1's rmse: 0.890762\n",
      "[1380]\ttraining's rmse: 0.801718\tvalid_1's rmse: 0.890706\n",
      "[1385]\ttraining's rmse: 0.801578\tvalid_1's rmse: 0.890638\n",
      "[1390]\ttraining's rmse: 0.801441\tvalid_1's rmse: 0.89069\n",
      "[1395]\ttraining's rmse: 0.80131\tvalid_1's rmse: 0.890643\n",
      "[1400]\ttraining's rmse: 0.801114\tvalid_1's rmse: 0.890611\n",
      "[1405]\ttraining's rmse: 0.800947\tvalid_1's rmse: 0.89064\n",
      "[1410]\ttraining's rmse: 0.800765\tvalid_1's rmse: 0.890669\n",
      "[1415]\ttraining's rmse: 0.80061\tvalid_1's rmse: 0.890583\n",
      "[1420]\ttraining's rmse: 0.800494\tvalid_1's rmse: 0.890585\n",
      "[1425]\ttraining's rmse: 0.800271\tvalid_1's rmse: 0.890664\n",
      "[1430]\ttraining's rmse: 0.80011\tvalid_1's rmse: 0.890624\n",
      "[1435]\ttraining's rmse: 0.799951\tvalid_1's rmse: 0.890596\n",
      "[1440]\ttraining's rmse: 0.799782\tvalid_1's rmse: 0.890585\n",
      "[1445]\ttraining's rmse: 0.799662\tvalid_1's rmse: 0.890573\n",
      "[1450]\ttraining's rmse: 0.799491\tvalid_1's rmse: 0.890562\n",
      "[1455]\ttraining's rmse: 0.799244\tvalid_1's rmse: 0.890547\n",
      "[1460]\ttraining's rmse: 0.799077\tvalid_1's rmse: 0.890495\n",
      "[1465]\ttraining's rmse: 0.798907\tvalid_1's rmse: 0.890481\n",
      "[1470]\ttraining's rmse: 0.798737\tvalid_1's rmse: 0.890444\n",
      "[1475]\ttraining's rmse: 0.798591\tvalid_1's rmse: 0.890485\n",
      "[1480]\ttraining's rmse: 0.798459\tvalid_1's rmse: 0.890481\n",
      "[1485]\ttraining's rmse: 0.798296\tvalid_1's rmse: 0.89045\n",
      "[1490]\ttraining's rmse: 0.798163\tvalid_1's rmse: 0.890432\n",
      "[1495]\ttraining's rmse: 0.798016\tvalid_1's rmse: 0.89044\n",
      "[1500]\ttraining's rmse: 0.797904\tvalid_1's rmse: 0.890431\n",
      "[1505]\ttraining's rmse: 0.797696\tvalid_1's rmse: 0.890489\n",
      "[1510]\ttraining's rmse: 0.797544\tvalid_1's rmse: 0.890489\n",
      "[1515]\ttraining's rmse: 0.797334\tvalid_1's rmse: 0.890494\n",
      "[1520]\ttraining's rmse: 0.797202\tvalid_1's rmse: 0.890486\n",
      "[1525]\ttraining's rmse: 0.797046\tvalid_1's rmse: 0.890431\n",
      "[1530]\ttraining's rmse: 0.796867\tvalid_1's rmse: 0.890474\n",
      "[1535]\ttraining's rmse: 0.796746\tvalid_1's rmse: 0.890473\n",
      "[1540]\ttraining's rmse: 0.796623\tvalid_1's rmse: 0.890463\n",
      "[1545]\ttraining's rmse: 0.796506\tvalid_1's rmse: 0.890472\n",
      "[1550]\ttraining's rmse: 0.796379\tvalid_1's rmse: 0.890381\n",
      "[1555]\ttraining's rmse: 0.796273\tvalid_1's rmse: 0.890375\n",
      "[1560]\ttraining's rmse: 0.796164\tvalid_1's rmse: 0.890362\n",
      "[1565]\ttraining's rmse: 0.796019\tvalid_1's rmse: 0.890547\n",
      "[1570]\ttraining's rmse: 0.795886\tvalid_1's rmse: 0.890506\n",
      "[1575]\ttraining's rmse: 0.795727\tvalid_1's rmse: 0.890466\n",
      "[1580]\ttraining's rmse: 0.795608\tvalid_1's rmse: 0.890446\n",
      "[1585]\ttraining's rmse: 0.795488\tvalid_1's rmse: 0.890413\n",
      "[1590]\ttraining's rmse: 0.795366\tvalid_1's rmse: 0.890428\n",
      "[1595]\ttraining's rmse: 0.795132\tvalid_1's rmse: 0.890317\n",
      "[1600]\ttraining's rmse: 0.795006\tvalid_1's rmse: 0.890274\n",
      "[1605]\ttraining's rmse: 0.794854\tvalid_1's rmse: 0.890199\n",
      "[1610]\ttraining's rmse: 0.794725\tvalid_1's rmse: 0.890176\n",
      "[1615]\ttraining's rmse: 0.794623\tvalid_1's rmse: 0.890176\n",
      "[1620]\ttraining's rmse: 0.794492\tvalid_1's rmse: 0.890159\n",
      "[1625]\ttraining's rmse: 0.794396\tvalid_1's rmse: 0.890173\n",
      "[1630]\ttraining's rmse: 0.794246\tvalid_1's rmse: 0.890153\n",
      "[1635]\ttraining's rmse: 0.794138\tvalid_1's rmse: 0.890145\n",
      "[1640]\ttraining's rmse: 0.794016\tvalid_1's rmse: 0.890129\n",
      "[1645]\ttraining's rmse: 0.793845\tvalid_1's rmse: 0.890111\n",
      "[1650]\ttraining's rmse: 0.793736\tvalid_1's rmse: 0.890087\n",
      "[1655]\ttraining's rmse: 0.79361\tvalid_1's rmse: 0.890073\n",
      "[1660]\ttraining's rmse: 0.793486\tvalid_1's rmse: 0.890001\n",
      "[1665]\ttraining's rmse: 0.793357\tvalid_1's rmse: 0.890001\n",
      "[1670]\ttraining's rmse: 0.793249\tvalid_1's rmse: 0.890005\n",
      "[1675]\ttraining's rmse: 0.793126\tvalid_1's rmse: 0.889996\n",
      "[1680]\ttraining's rmse: 0.792994\tvalid_1's rmse: 0.889976\n",
      "[1685]\ttraining's rmse: 0.792861\tvalid_1's rmse: 0.889951\n",
      "[1690]\ttraining's rmse: 0.792761\tvalid_1's rmse: 0.889923\n",
      "[1695]\ttraining's rmse: 0.792579\tvalid_1's rmse: 0.889909\n",
      "[1700]\ttraining's rmse: 0.792471\tvalid_1's rmse: 0.88989\n",
      "[1705]\ttraining's rmse: 0.792336\tvalid_1's rmse: 0.889876\n",
      "[1710]\ttraining's rmse: 0.792195\tvalid_1's rmse: 0.88975\n",
      "[1715]\ttraining's rmse: 0.792047\tvalid_1's rmse: 0.889717\n",
      "[1720]\ttraining's rmse: 0.791958\tvalid_1's rmse: 0.889831\n",
      "[1725]\ttraining's rmse: 0.79183\tvalid_1's rmse: 0.889819\n",
      "[1730]\ttraining's rmse: 0.791701\tvalid_1's rmse: 0.889773\n",
      "[1735]\ttraining's rmse: 0.791595\tvalid_1's rmse: 0.889749\n",
      "[1740]\ttraining's rmse: 0.791464\tvalid_1's rmse: 0.889816\n",
      "[1745]\ttraining's rmse: 0.791317\tvalid_1's rmse: 0.88983\n",
      "[1750]\ttraining's rmse: 0.791199\tvalid_1's rmse: 0.889797\n",
      "[1755]\ttraining's rmse: 0.791091\tvalid_1's rmse: 0.889768\n",
      "[1760]\ttraining's rmse: 0.790961\tvalid_1's rmse: 0.889834\n",
      "[1765]\ttraining's rmse: 0.790832\tvalid_1's rmse: 0.889826\n",
      "[1770]\ttraining's rmse: 0.79073\tvalid_1's rmse: 0.889822\n",
      "[1775]\ttraining's rmse: 0.790626\tvalid_1's rmse: 0.889805\n",
      "[1780]\ttraining's rmse: 0.790546\tvalid_1's rmse: 0.889789\n",
      "[1785]\ttraining's rmse: 0.790448\tvalid_1's rmse: 0.889818\n",
      "[1790]\ttraining's rmse: 0.790344\tvalid_1's rmse: 0.889904\n",
      "[1795]\ttraining's rmse: 0.790186\tvalid_1's rmse: 0.889914\n",
      "[1800]\ttraining's rmse: 0.790105\tvalid_1's rmse: 0.889883\n",
      "[1805]\ttraining's rmse: 0.790022\tvalid_1's rmse: 0.889904\n",
      "[1810]\ttraining's rmse: 0.789879\tvalid_1's rmse: 0.889877\n",
      "Early stopping, best iteration is:\n",
      "[1713]\ttraining's rmse: 0.792099\tvalid_1's rmse: 0.889716\n"
     ]
    }
   ],
   "source": [
    "feature_name = X_train.columns.tolist()\n",
    "\n",
    "params = {\n",
    "    'objective': 'mse',\n",
    "    'metric': 'rmse',\n",
    "    'num_leaves': 127,\n",
    "    'bagging_freq': 5,\n",
    "    'learning_rate': 0.005,\n",
    "    'feature_fraction': 0.75,\n",
    "    'bagging_fraction': 0.75,\n",
    "    'seed': 1,\n",
    "    'verbose': 0\n",
    "}\n",
    "\n",
    "feature_name_indexes = [ \n",
    "                        'country_part', \n",
    "                        'item_category_common',\n",
    "                        'item_category_code', \n",
    "                        'city_code',\n",
    "]\n",
    "\n",
    "lgb_train = lgb.Dataset(X_train[feature_name], Y_train)\n",
    "lgb_eval = lgb.Dataset(X_valid[feature_name], Y_valid, reference=lgb_train)\n",
    "\n",
    "evals_result = {}\n",
    "gbm = lgb.train(\n",
    "        params, \n",
    "        lgb_train,\n",
    "        num_boost_round=3000,\n",
    "        valid_sets=(lgb_train, lgb_eval), \n",
    "        feature_name = feature_name,\n",
    "        categorical_feature = feature_name_indexes,\n",
    "        verbose_eval=5, \n",
    "        evals_result = evals_result,\n",
    "        early_stopping_rounds = 100)"
   ]
  },
  {
   "cell_type": "markdown",
   "metadata": {
    "papermill": {
     "duration": 0.566602,
     "end_time": "2020-09-01T16:25:50.412477",
     "exception": false,
     "start_time": "2020-09-01T16:25:49.845875",
     "status": "completed"
    },
    "tags": []
   },
   "source": [
    "lgb.plot_importance(\n",
    "    gbm, \n",
    "    max_num_features=50, \n",
    "    importance_type='gain', \n",
    "    figsize=(12,8));"
   ]
  },
  {
   "cell_type": "code",
   "execution_count": 204,
   "metadata": {
    "papermill": {
     "duration": 19.11055,
     "end_time": "2020-09-01T16:26:09.614294",
     "exception": false,
     "start_time": "2020-09-01T16:25:50.503744",
     "status": "completed"
    },
    "tags": []
   },
   "outputs": [],
   "source": [
    "test = pd.read_csv(os.path.join(input_dir,'test.csv'))\n",
    "Y_test = gbm.predict(X_test[feature_name]).clip(0, 20)\n",
    "\n",
    "submission = pd.DataFrame({\n",
    "    \"ID\": test.index, \n",
    "    \"item_cnt_month\": Y_test\n",
    "})\n",
    "submission.to_csv('gbm_submission1120_3months.csv', index=False)"
   ]
  },
  {
   "cell_type": "code",
   "execution_count": 205,
   "metadata": {},
   "outputs": [
    {
     "data": {
      "text/html": [
       "<div>\n",
       "<style scoped>\n",
       "    .dataframe tbody tr th:only-of-type {\n",
       "        vertical-align: middle;\n",
       "    }\n",
       "\n",
       "    .dataframe tbody tr th {\n",
       "        vertical-align: top;\n",
       "    }\n",
       "\n",
       "    .dataframe thead th {\n",
       "        text-align: right;\n",
       "    }\n",
       "</style>\n",
       "<table border=\"1\" class=\"dataframe\">\n",
       "  <thead>\n",
       "    <tr style=\"text-align: right;\">\n",
       "      <th></th>\n",
       "      <th>ID</th>\n",
       "      <th>item_cnt_month</th>\n",
       "    </tr>\n",
       "  </thead>\n",
       "  <tbody>\n",
       "    <tr>\n",
       "      <th>0</th>\n",
       "      <td>0</td>\n",
       "      <td>0.303116</td>\n",
       "    </tr>\n",
       "    <tr>\n",
       "      <th>1</th>\n",
       "      <td>1</td>\n",
       "      <td>0.338234</td>\n",
       "    </tr>\n",
       "    <tr>\n",
       "      <th>2</th>\n",
       "      <td>2</td>\n",
       "      <td>0.782433</td>\n",
       "    </tr>\n",
       "  </tbody>\n",
       "</table>\n",
       "</div>"
      ],
      "text/plain": [
       "   ID  item_cnt_month\n",
       "0   0        0.303116\n",
       "1   1        0.338234\n",
       "2   2        0.782433"
      ]
     },
     "execution_count": 205,
     "metadata": {},
     "output_type": "execute_result"
    }
   ],
   "source": [
    "submission.head(3)"
   ]
  },
  {
   "cell_type": "markdown",
   "metadata": {},
   "source": [
    "# 5) Post-process"
   ]
  },
  {
   "cell_type": "markdown",
   "metadata": {},
   "source": [
    "Sales are highly affected by social events. Therefore, it is not easy to forecast future sales just using historical data. Understanding the social events such as new games released,  new album released, or COVID-19(not related to the current topic but it unprecedently made people buy the masks a lot in Summer), is crucial for predicting future sales."
   ]
  },
  {
   "cell_type": "code",
   "execution_count": 206,
   "metadata": {},
   "outputs": [],
   "source": [
    "item = pd.read_csv(\"../data/input/items.csv\")\n",
    "test = pd.read_csv(\"../data/input/test.csv\")"
   ]
  },
  {
   "cell_type": "code",
   "execution_count": 207,
   "metadata": {},
   "outputs": [],
   "source": [
    "submission = pd.read_csv('gbm_submission1120_3months.csv')"
   ]
  },
  {
   "cell_type": "code",
   "execution_count": 208,
   "metadata": {},
   "outputs": [],
   "source": [
    "tmp = test.merge(shops,on=\"shop_id\",how='left').merge(item,on='item_id',how='left')"
   ]
  },
  {
   "cell_type": "code",
   "execution_count": 209,
   "metadata": {},
   "outputs": [
    {
     "data": {
      "text/html": [
       "<div>\n",
       "<style scoped>\n",
       "    .dataframe tbody tr th:only-of-type {\n",
       "        vertical-align: middle;\n",
       "    }\n",
       "\n",
       "    .dataframe tbody tr th {\n",
       "        vertical-align: top;\n",
       "    }\n",
       "\n",
       "    .dataframe thead th {\n",
       "        text-align: right;\n",
       "    }\n",
       "</style>\n",
       "<table border=\"1\" class=\"dataframe\">\n",
       "  <thead>\n",
       "    <tr style=\"text-align: right;\">\n",
       "      <th></th>\n",
       "      <th>ID</th>\n",
       "      <th>shop_id</th>\n",
       "      <th>item_id</th>\n",
       "      <th>city_code</th>\n",
       "      <th>city_coord_1</th>\n",
       "      <th>city_coord_2</th>\n",
       "      <th>country_part</th>\n",
       "      <th>item_name</th>\n",
       "      <th>item_category_id</th>\n",
       "    </tr>\n",
       "  </thead>\n",
       "  <tbody>\n",
       "    <tr>\n",
       "      <th>0</th>\n",
       "      <td>0</td>\n",
       "      <td>5</td>\n",
       "      <td>5037</td>\n",
       "      <td>3</td>\n",
       "      <td>59.2239</td>\n",
       "      <td>39.88398</td>\n",
       "      <td>2</td>\n",
       "      <td>NHL 15 [PS3, русские субтитры]</td>\n",
       "      <td>19</td>\n",
       "    </tr>\n",
       "  </tbody>\n",
       "</table>\n",
       "</div>"
      ],
      "text/plain": [
       "   ID  shop_id  item_id  city_code  city_coord_1  city_coord_2  country_part  \\\n",
       "0   0        5     5037          3       59.2239      39.88398             2   \n",
       "\n",
       "                        item_name  item_category_id  \n",
       "0  NHL 15 [PS3, русские субтитры]                19  "
      ]
     },
     "execution_count": 209,
     "metadata": {},
     "output_type": "execute_result"
    }
   ],
   "source": [
    "tmp.head(1)"
   ]
  },
  {
   "cell_type": "markdown",
   "metadata": {},
   "source": [
    "## 5.1. Games"
   ]
  },
  {
   "cell_type": "markdown",
   "metadata": {},
   "source": [
    "In November 2015, PS4 released new game series, Call of Duty, Fallout4, and Star Wars: Battlefront. These games were so popular that the sales of the games had higher values in November than others, and the phenomenon can't be explained by using historical data."
   ]
  },
  {
   "cell_type": "code",
   "execution_count": 210,
   "metadata": {},
   "outputs": [],
   "source": [
    "games = tmp[tmp.item_name.str.contains(\"Call of Duty|Fallout4|Star Wars: Battlefront\")].ID"
   ]
  },
  {
   "cell_type": "code",
   "execution_count": 211,
   "metadata": {},
   "outputs": [],
   "source": [
    "submission.loc[submission.ID.isin(games),\"item_cnt_month\"] *= 1.3"
   ]
  },
  {
   "cell_type": "markdown",
   "metadata": {},
   "source": [
    "## 6.2. One Direction album"
   ]
  },
  {
   "cell_type": "markdown",
   "metadata": {},
   "source": [
    "In addition, One Direction, an English-Irish pop boy band, which is famous in Russia(according to one of the kernels in Kaggle) released a new album in November 2015. Likewise the PS4 games, the music album is expected to be sold a lot at that time. The sales of the newly released album are not easy to predict just using historical data that is not directly related to."
   ]
  },
  {
   "cell_type": "code",
   "execution_count": 212,
   "metadata": {},
   "outputs": [],
   "source": [
    "submission.loc[tmp.item_name.str.contains(\"ONE DIRECTION\"),\"item_cnt_month\"] *= 4.8"
   ]
  },
  {
   "cell_type": "code",
   "execution_count": 213,
   "metadata": {},
   "outputs": [],
   "source": [
    "submission.to_csv('gbm_submission1120_3months_games130_OD480.csv', index=False)"
   ]
  }
 ],
 "metadata": {
  "kernelspec": {
   "display_name": "Python 3.7.7 64-bit ('tensor': conda)",
   "language": "python",
   "name": "python37764bittensorconda62165e0591e84ab09f669312825587a2"
  },
  "language_info": {
   "codemirror_mode": {
    "name": "ipython",
    "version": 3
   },
   "file_extension": ".py",
   "mimetype": "text/x-python",
   "name": "python",
   "nbconvert_exporter": "python",
   "pygments_lexer": "ipython3",
   "version": "3.7.7"
  },
  "papermill": {
   "duration": 2341.632303,
   "end_time": "2020-09-01T16:26:09.753197",
   "environment_variables": {},
   "exception": null,
   "input_path": "__notebook__.ipynb",
   "output_path": "__notebook__.ipynb",
   "parameters": {},
   "start_time": "2020-09-01T15:47:08.120894",
   "version": "2.1.0"
  }
 },
 "nbformat": 4,
 "nbformat_minor": 4
}
